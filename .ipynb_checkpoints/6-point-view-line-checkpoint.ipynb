{
 "cells": [
  {
   "cell_type": "code",
   "execution_count": 43,
   "metadata": {},
   "outputs": [
    {
     "name": "stdout",
     "output_type": "stream",
     "text": [
      "The autoreload extension is already loaded. To reload it, use:\n",
      "  %reload_ext autoreload\n",
      "The dimension is \n",
      "(899, 38, 3)\n"
     ]
    }
   ],
   "source": [
    "%matplotlib inline\n",
    "import numpy as np\n",
    "import matplotlib.pyplot as plt\n",
    "import cv2\n",
    "%load_ext autoreload\n",
    "%autoreload 2\n",
    "a = np.load('pose_result__data_paper_180918_MDN_PR_Fly1_001_SG1_behData_images.pkl')\n",
    "data = a['points3d'].copy()\n",
    "print('The dimension is ')\n",
    "print(data.shape)"
   ]
  },
  {
   "cell_type": "code",
   "execution_count": 92,
   "metadata": {},
   "outputs": [
    {
     "name": "stdout",
     "output_type": "stream",
     "text": [
      "39.719173687676225\n",
      "37.766569550937106\n",
      "40.96779343467542\n",
      "38.55254876567842\n",
      "[0.62771434 0.07004704 0.77528583]\n",
      "[0.62771434 0.         0.77528583]\n",
      "x-axis angel:  38.99554730142681\n",
      "left-coordinate x : [0.62771434 0.         0.77528583]\n",
      "left-coordinate y : [ 0 -1  0]\n",
      "left-coordinate z : [ 0.77528583  0.         -0.62771434]\n"
     ]
    }
   ],
   "source": [
    "def intersection_angle(a,b):\n",
    "    return np.arccos(a@b/np.linalg.norm(a)/np.linalg.norm(b))\n",
    "def ag2(angle):\n",
    "    return angle/np.pi*180\n",
    "def rotaMatr(v1,v2):\n",
    "    u = np.cross(v1,v2)\n",
    "    u = u/np.linalg.norm(u)\n",
    "    th = intersection_angle(v1,v2)\n",
    "    r = np.zeros((3,3))\n",
    "    c = np.cos(th)\n",
    "    s = np.sin(th)\n",
    "    ux = u[0]\n",
    "    uy = u[1]\n",
    "    uz = u[2]\n",
    "    r[0,0] = c + ux**2*(1-c)\n",
    "    r[0,1] = ux*uy*(1-c) - uz*s\n",
    "    r[0,2] = ux*uz*(1-c) + uy*s\n",
    "    \n",
    "    r[1,0] = ux*uy*(1-c) + uz*s\n",
    "    r[1,1] = c + uy**2*(1-c)\n",
    "    r[1,2] = uy*uz*(1-c) - ux*s\n",
    "    \n",
    "    r[2,0] = uz*ux*(1-c) - uy*s\n",
    "    r[2,1] = uz*uy*(1-c) + ux*s\n",
    "    r[2,2] = c + uz**2*(1-c)\n",
    "    return r\n",
    "def set_coord():\n",
    "    v_ref = np.array([0,0,1])\n",
    "    v1 = data[0,0,:] - data[0,19,:]\n",
    "    v2 = data[0,5,:] - data[0,24,:]\n",
    "    v3 = data[0,10,:] - data[0,29,:]\n",
    "    v4 = data[0,15,:] - data[0,34,:]\n",
    "    print(ag2(intersection_angle(v_ref,v1)))\n",
    "    print(ag2(intersection_angle(v_ref,v2)))\n",
    "    print(ag2(intersection_angle(v_ref,v3)))\n",
    "    print(ag2(intersection_angle(v_ref,v4)))\n",
    "    xx = v1+v2+v3+v4\n",
    "    x_ref = xx/np.linalg.norm(xx)\n",
    "    print(x_ref)\n",
    "    x_ref[1] = 0\n",
    "    print(x_ref)\n",
    "    print('x-axis angel: ',ag2(intersection_angle(v_ref,x_ref)))\n",
    "    return x_ref\n",
    "def interpolation(data, t, leg, pos, num):\n",
    "    '''pos = 0,1,2,3  t = 0 , leg = left:0, 5, 10,  right:19, 24, 29'''\n",
    "    ex_point = data[t,leg+pos,:].reshape(1,3)\n",
    "    next_point = data[t,leg+pos+1,:].reshape(1,3)\n",
    "    lam = np.linspace(0,1,num).reshape(num,1)\n",
    "    enlarge_leg = lam * ex_point + (1 - lam) * next_point\n",
    "    return enlarge_leg\n",
    "def views_eachleg(data,t,leg,sch1,sch2,ax):\n",
    "    # require data: (frame,  point,  dimension)\n",
    "    '''meaningful input: top view:(0,2)  left view:(1,0)  front view:(1,2)'''\n",
    "    mapp = np.zeros((800,800))\n",
    "    for i in range(leg*4*num,(leg+1)*4*num):#range(0,data.shape[1]):  #  [0,5,19,24,10,29,15,34]:\n",
    "        for j in range(-3,3):\n",
    "            for k in range(-3,3):\n",
    "                mapp[int(100*data[t,i,sch1]+300)+j,int(300+100*data[t,i,sch2])+k] = 10\n",
    "    ax.imshow(mapp)\n",
    "    #cv2.imshow('projection view',mapp)\n",
    "    #cv2.waitKey(10)\n",
    "def views(data,t,sch1,sch2):\n",
    "    '''meaningful input: top view:(0,2)  left view:(1,0)  front view:(1,2)'''\n",
    "    mapp = np.zeros((800,800))\n",
    "    for i in range(0,data.shape[1]):  #  [0,5,19,24,10,29,15,34]:\n",
    "        for j in range(-3,3):\n",
    "            for k in range(-3,3):\n",
    "                mapp[int(100*data[t,i,sch1]+300)+j,int(300+100*data[t,i,sch2])+k] = 10\n",
    "    plt.imshow(mapp)\n",
    "    #cv2.imshow('projection view',mapp)\n",
    "    #cv2.waitKey(10)\n",
    "def views3(data,t,sch1,sch2,ax):\n",
    "    '''meaningful input: top view:(0,2)  left view:(1,0)  front view:(1,2)'''\n",
    "    mapp = np.zeros((800,800))\n",
    "    for i in range(0,data.shape[1]):  #  [0,5,19,24,10,29,15,34]:\n",
    "        for j in range(-3,3):\n",
    "            for k in range(-3,3):\n",
    "                mapp[int(100*data[t,i,sch1]+300)+j,int(400+100*data[t,i,sch2])+k] = 10\n",
    "    ax.imshow(mapp)\n",
    "    #cv2.imshow('projection view',mapp)\n",
    "    #cv2.waitKey(10)\n",
    "#an = 30/180*np.pi\n",
    "#x_ref = np.array([np.sin(an),0,np.cos(an)])\n",
    "#print(x_ref)\n",
    "\n",
    "#coord_x = x_ref\n",
    "coord_x = set_coord()\n",
    "coord_y = np.array([0,-1,0])\n",
    "coord_z = np.cross(coord_x,coord_y)\n",
    "print('left-coordinate x :', coord_x)\n",
    "print('left-coordinate y :', coord_y)\n",
    "print('left-coordinate z :', coord_z)\n",
    "R_std = rotaMatr(coord_x,np.array([0,0,1]))\n",
    "std_data = np.zeros(data.shape)\n",
    "for i in range(899):\n",
    "    std_data[i,:,:] = (R_std @ (data[i,:].T)).T    \n",
    "num = 15\n",
    "enlarge_leg = np.zeros((899,24,num,3))\n",
    "for t in range(0,899):\n",
    "    i = 0\n",
    "    for leg in [0,5,10,19,24,29]:\n",
    "        for pos in range(4):\n",
    "            enlarge_leg[t,i+pos,:,:] = interpolation(std_data,t,leg,pos,num)\n",
    "        i += 4\n",
    "larg_leg = enlarge_leg.reshape(899,24*num,3)"
   ]
  },
  {
   "cell_type": "code",
   "execution_count": 99,
   "metadata": {},
   "outputs": [
    {
     "name": "stdout",
     "output_type": "stream",
     "text": [
      "six leg\n"
     ]
    },
    {
     "data": {
      "image/png": "[encoded data removed]",
      "text/plain": [
       "<Figure size 1080x1080 with 3 Axes>"
      ]
     },
     "metadata": {
      "needs_background": "light"
     },
     "output_type": "display_data"
    }
   ],
   "source": [
    "'''left view'''\n",
    "t = 0\n",
    "fig, [ax1, ax2, ax3]= plt.subplots(1, 3, figsize=(15,15))\n",
    "views3(larg_leg,t,1,0,ax1)\n",
    "ax1.set_title('left view')\n",
    "\n",
    "'''top view'''\n",
    "t = 0\n",
    "views3(larg_leg,t,0,2,ax2)\n",
    "ax2.set_title('top view')\n",
    "\n",
    "'''front view'''\n",
    "t = 0\n",
    "views3(larg_leg,t,1,2,ax3)\n",
    "ax3.set_title('front view')\n",
    "print('six leg')"
   ]
  },
  {
   "cell_type": "code",
   "execution_count": 93,
   "metadata": {},
   "outputs": [
    {
     "name": "stdout",
     "output_type": "stream",
     "text": [
      "left front leg\n"
     ]
    },
    {
     "data": {
      "image/png": "[encoded data removed]",
      "text/plain": [
       "<Figure size 1080x1080 with 3 Axes>"
      ]
     },
     "metadata": {
      "needs_background": "light"
     },
     "output_type": "display_data"
    }
   ],
   "source": [
    "'''left view'''\n",
    "\n",
    "leg = 0\n",
    "t = 0\n",
    "fig, [ax1, ax2, ax3]= plt.subplots(1, 3, figsize=(15,15))\n",
    "views_eachleg(larg_leg,t,leg,1,0,ax1)\n",
    "ax1.set_title('left view')\n",
    "\n",
    "'''top view'''\n",
    "leg = 0\n",
    "t = 0\n",
    "views_eachleg(larg_leg,t,leg,0,2,ax2)\n",
    "ax2.set_title('top view')\n",
    "\n",
    "'''front view'''\n",
    "leg = 0\n",
    "t = 0\n",
    "views_eachleg(larg_leg,t,leg,1,2,ax3)\n",
    "ax3.set_title('front view')\n",
    "print('left front leg')"
   ]
  },
  {
   "cell_type": "code",
   "execution_count": 94,
   "metadata": {},
   "outputs": [
    {
     "name": "stdout",
     "output_type": "stream",
     "text": [
      "left middle leg\n"
     ]
    },
    {
     "data": {
      "image/png": "[encoded data removed]",
      "text/plain": [
       "<Figure size 1080x1080 with 3 Axes>"
      ]
     },
     "metadata": {
      "needs_background": "light"
     },
     "output_type": "display_data"
    }
   ],
   "source": [
    "'''left view'''\n",
    "leg = 1\n",
    "t = 0\n",
    "fig, [ax1, ax2, ax3]= plt.subplots(1, 3, figsize=(15,15))\n",
    "views_eachleg(larg_leg,t,leg,1,0,ax1)\n",
    "ax1.set_title('left view')\n",
    "\n",
    "'''top view'''\n",
    "leg = 1\n",
    "t = 0\n",
    "views_eachleg(larg_leg,t,leg,0,2,ax2)\n",
    "ax2.set_title('top view')\n",
    "\n",
    "'''front view'''\n",
    "leg = 1\n",
    "t = 0\n",
    "views_eachleg(larg_leg,t,leg,1,2,ax3)\n",
    "ax3.set_title('front view')\n",
    "print('left middle leg')"
   ]
  },
  {
   "cell_type": "code",
   "execution_count": 95,
   "metadata": {},
   "outputs": [
    {
     "name": "stdout",
     "output_type": "stream",
     "text": [
      "left hind leg\n"
     ]
    },
    {
     "data": {
      "image/png": "[encoded data removed]",
      "text/plain": [
       "<Figure size 1080x1080 with 3 Axes>"
      ]
     },
     "metadata": {
      "needs_background": "light"
     },
     "output_type": "display_data"
    }
   ],
   "source": [
    "'''left view'''\n",
    "leg = 2\n",
    "t = 0\n",
    "fig, [ax1, ax2, ax3]= plt.subplots(1, 3, figsize=(15,15))\n",
    "views_eachleg(larg_leg,t,leg,1,0,ax1)\n",
    "ax1.set_title('left view')\n",
    "\n",
    "'''top view'''\n",
    "leg = 2\n",
    "t = 0\n",
    "views_eachleg(larg_leg,t,leg,0,2,ax2)\n",
    "ax2.set_title('top view')\n",
    "\n",
    "'''front view'''\n",
    "leg = 2\n",
    "t = 0\n",
    "views_eachleg(larg_leg,t,leg,1,2,ax3)\n",
    "ax3.set_title('front view')\n",
    "print('left hind leg')"
   ]
  },
  {
   "cell_type": "code",
   "execution_count": 96,
   "metadata": {},
   "outputs": [
    {
     "name": "stdout",
     "output_type": "stream",
     "text": [
      "right front leg\n"
     ]
    },
    {
     "data": {
      "image/png": "[encoded data removed]",
      "text/plain": [
       "<Figure size 1080x1080 with 3 Axes>"
      ]
     },
     "metadata": {
      "needs_background": "light"
     },
     "output_type": "display_data"
    }
   ],
   "source": [
    "'''left view'''\n",
    "leg = 3\n",
    "t = 0\n",
    "fig, [ax1, ax2, ax3]= plt.subplots(1, 3, figsize=(15,15))\n",
    "views_eachleg(larg_leg,t,leg,1,0,ax1)\n",
    "ax1.set_title('left view')\n",
    "\n",
    "'''top view'''\n",
    "leg = 3\n",
    "t = 0\n",
    "views_eachleg(larg_leg,t,leg,0,2,ax2)\n",
    "ax2.set_title('top view')\n",
    "\n",
    "'''front view'''\n",
    "leg = 3\n",
    "t = 0\n",
    "views_eachleg(larg_leg,t,leg,1,2,ax3)\n",
    "ax3.set_title('front view')\n",
    "print('right front leg')"
   ]
  },
  {
   "cell_type": "code",
   "execution_count": 97,
   "metadata": {},
   "outputs": [
    {
     "name": "stdout",
     "output_type": "stream",
     "text": [
      "right middle leg\n"
     ]
    },
    {
     "data": {
      "image/png": "[encoded data removed]",
      "text/plain": [
       "<Figure size 1080x1080 with 3 Axes>"
      ]
     },
     "metadata": {
      "needs_background": "light"
     },
     "output_type": "display_data"
    }
   ],
   "source": [
    "'''left view'''\n",
    "leg = 4\n",
    "t = 0\n",
    "fig, [ax1, ax2, ax3]= plt.subplots(1, 3, figsize=(15,15))\n",
    "views_eachleg(larg_leg,t,leg,1,0,ax1)\n",
    "ax1.set_title('left view')\n",
    "\n",
    "'''top view'''\n",
    "leg = 4\n",
    "t = 0\n",
    "views_eachleg(larg_leg,t,leg,0,2,ax2)\n",
    "ax2.set_title('top view')\n",
    "\n",
    "'''front view'''\n",
    "leg = 4\n",
    "t = 0\n",
    "views_eachleg(larg_leg,t,leg,1,2,ax3)\n",
    "ax3.set_title('front view')\n",
    "print('right middle leg')"
   ]
  },
  {
   "cell_type": "code",
   "execution_count": 98,
   "metadata": {},
   "outputs": [
    {
     "name": "stdout",
     "output_type": "stream",
     "text": [
      "right hind leg\n"
     ]
    },
    {
     "data": {
      "image/png": "[encoded data removed]",
      "text/plain": [
       "<Figure size 1080x1080 with 3 Axes>"
      ]
     },
     "metadata": {
      "needs_background": "light"
     },
     "output_type": "display_data"
    }
   ],
   "source": [
    "'''left view'''\n",
    "leg = 5\n",
    "t = 0\n",
    "fig, [ax1, ax2, ax3]= plt.subplots(1, 3, figsize=(15,15))\n",
    "views_eachleg(larg_leg,t,leg,1,0,ax1)\n",
    "ax1.set_title('left view')\n",
    "\n",
    "'''top view'''\n",
    "leg = 5\n",
    "t = 0\n",
    "views_eachleg(larg_leg,t,leg,0,2,ax2)\n",
    "ax2.set_title('top view')\n",
    "\n",
    "'''front view'''\n",
    "leg = 5\n",
    "t = 0\n",
    "views_eachleg(larg_leg,t,leg,1,2,ax3)\n",
    "ax3.set_title('front view')\n",
    "print('right hind leg')"
   ]
  }
 ],
 "metadata": {
  "kernelspec": {
   "display_name": "Python 3",
   "language": "python",
   "name": "python3"
  },
  "language_info": {
   "codemirror_mode": {
    "name": "ipython",
    "version": 3
   },
   "file_extension": ".py",
   "mimetype": "text/x-python",
   "name": "python",
   "nbconvert_exporter": "python",
   "pygments_lexer": "ipython3",
   "version": "3.7.1"
  }
 },
 "nbformat": 4,
 "nbformat_minor": 2
}
