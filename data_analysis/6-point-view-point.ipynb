{
 "cells": [
  {
   "cell_type": "code",
   "execution_count": 1,
   "metadata": {},
   "outputs": [],
   "source": [
    "%matplotlib inline\n",
    "import numpy as np\n",
    "import matplotlib.pyplot as plt\n",
    "import cv2\n",
    "%load_ext autoreload\n",
    "%autoreload 2"
   ]
  },
  {
   "cell_type": "code",
   "execution_count": 2,
   "metadata": {},
   "outputs": [
    {
     "name": "stdout",
     "output_type": "stream",
     "text": [
      "The dimension is \n",
      "(899, 38, 3)\n"
     ]
    }
   ],
   "source": [
    "a = np.load('pose_result__data_paper_180918_MDN_PR_Fly1_001_SG1_behData_images.pkl')\n",
    "data = a['points3d'].copy()\n",
    "print('The dimension is ')\n",
    "print(data.shape)"
   ]
  },
  {
   "cell_type": "code",
   "execution_count": 3,
   "metadata": {},
   "outputs": [
    {
     "name": "stdout",
     "output_type": "stream",
     "text": [
      "[0.5       0.        0.8660254]\n",
      "left-coordinate x : [0.5       0.        0.8660254]\n",
      "left-coordinate y : [ 0 -1  0]\n",
      "left-coordinate z : [ 0.8660254  0.        -0.5      ]\n"
     ]
    }
   ],
   "source": [
    "def views(data,t,sch1,sch2):\n",
    "    '''meaningful input: top view:(0,2)  left view:(1,0)  front view:(1,2)'''\n",
    "    mapp = np.zeros((800,800))\n",
    "    for i in set(range(0,34))-set(range(15,19)):#range(0,34):#data.shape[1]):  #  [0,5,19,24,10,29,15,34]:\n",
    "        for j in range(-5,5):\n",
    "            for k in range(-5,5):\n",
    "                mapp[int(100*data[t,i,sch1]+300)+j,int(300+100*data[t,i,sch2])+k] = 10\n",
    "    plt.imshow(mapp)\n",
    "    #cv2.imshow('projection',mapp)\n",
    "    #cv2.waitKey(10)\n",
    "def intersection_angle(a,b):\n",
    "    return np.arccos(a@b/np.linalg.norm(a)/np.linalg.norm(b))\n",
    "def ag2(angle):\n",
    "    return angle/np.pi*180\n",
    "def rotaMatr(v1,v2):\n",
    "    u = np.cross(v1,v2)\n",
    "    u = u/np.linalg.norm(u)\n",
    "    th = intersection_angle(v1,v2)\n",
    "    r = np.zeros((3,3))\n",
    "    c = np.cos(th)\n",
    "    s = np.sin(th)\n",
    "    ux = u[0]\n",
    "    uy = u[1]\n",
    "    uz = u[2]\n",
    "    r[0,0] = c + ux**2*(1-c)\n",
    "    r[0,1] = ux*uy*(1-c) - uz*s\n",
    "    r[0,2] = ux*uz*(1-c) + uy*s\n",
    "    \n",
    "    r[1,0] = ux*uy*(1-c) + uz*s\n",
    "    r[1,1] = c + uy**2*(1-c)\n",
    "    r[1,2] = uy*uz*(1-c) - ux*s\n",
    "    \n",
    "    r[2,0] = uz*ux*(1-c) - uy*s\n",
    "    r[2,1] = uz*uy*(1-c) + ux*s\n",
    "    r[2,2] = c + uz**2*(1-c)\n",
    "    return r\n",
    "\n",
    "an = 30/180*np.pi\n",
    "x_ref = np.array([np.sin(an),0,np.cos(an)])\n",
    "print(x_ref)\n",
    "\n",
    "coord_x = x_ref\n",
    "coord_y = np.array([0,-1,0])\n",
    "coord_z = np.cross(coord_x,coord_y)\n",
    "print('left-coordinate x :', coord_x)\n",
    "print('left-coordinate y :', coord_y)\n",
    "print('left-coordinate z :', coord_z)\n",
    "R_std = rotaMatr(x_ref,np.array([0,0,1]))\n",
    "std_data = np.zeros(data.shape)\n",
    "for i in range(899):\n",
    "    std_data[i,:,:] = (R_std @ (data[i,:].T)).T"
   ]
  },
  {
   "cell_type": "code",
   "execution_count": 6,
   "metadata": {},
   "outputs": [
    {
     "name": "stdout",
     "output_type": "stream",
     "text": [
      "Left view\n"
     ]
    },
    {
     "data": {
      "image/png": "[encoded data removed]",
      "text/plain": [
       "<Figure size 432x288 with 1 Axes>"
      ]
     },
     "metadata": {
      "needs_background": "light"
     },
     "output_type": "display_data"
    }
   ],
   "source": [
    "print(\"Left view\")\n",
    "views(std_data,0,1,0)"
   ]
  },
  {
   "cell_type": "code",
   "execution_count": 8,
   "metadata": {},
   "outputs": [
    {
     "name": "stdout",
     "output_type": "stream",
     "text": [
      "top view\n"
     ]
    },
    {
     "data": {
      "image/png": "[encoded data removed]",
      "text/plain": [
       "<Figure size 432x288 with 1 Axes>"
      ]
     },
     "metadata": {
      "needs_background": "light"
     },
     "output_type": "display_data"
    }
   ],
   "source": [
    "print(\"top view\")\n",
    "views(std_data,0,0,2)"
   ]
  },
  {
   "cell_type": "code",
   "execution_count": 9,
   "metadata": {},
   "outputs": [
    {
     "name": "stdout",
     "output_type": "stream",
     "text": [
      "front view\n"
     ]
    },
    {
     "data": {
      "image/png": "[encoded data removed]",
      "text/plain": [
       "<Figure size 432x288 with 1 Axes>"
      ]
     },
     "metadata": {
      "needs_background": "light"
     },
     "output_type": "display_data"
    }
   ],
   "source": [
    "print(\"front view\")\n",
    "views(std_data,0,1,2)"
   ]
  },
  {
   "cell_type": "code",
   "execution_count": null,
   "metadata": {},
   "outputs": [],
   "source": []
  }
 ],
 "metadata": {
  "kernelspec": {
   "display_name": "Python 3",
   "language": "python",
   "name": "python3"
  },
  "language_info": {
   "codemirror_mode": {
    "name": "ipython",
    "version": 3
   },
   "file_extension": ".py",
   "mimetype": "text/x-python",
   "name": "python",
   "nbconvert_exporter": "python",
   "pygments_lexer": "ipython3",
   "version": "3.7.1"
  }
 },
 "nbformat": 4,
 "nbformat_minor": 2
}
