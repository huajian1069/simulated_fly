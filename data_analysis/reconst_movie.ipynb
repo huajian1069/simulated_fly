{
 "cells": [
  {
   "cell_type": "code",
   "execution_count": 2,
   "metadata": {},
   "outputs": [
    {
     "name": "stdout",
     "output_type": "stream",
     "text": [
      "The autoreload extension is already loaded. To reload it, use:\n",
      "  %reload_ext autoreload\n"
     ]
    }
   ],
   "source": [
    "%matplotlib inline\n",
    "import numpy as np\n",
    "import matplotlib.pyplot as plt\n",
    "import cv2\n",
    "%load_ext autoreload\n",
    "%autoreload 2"
   ]
  },
  {
   "cell_type": "code",
   "execution_count": 3,
   "metadata": {},
   "outputs": [
    {
     "ename": "NameError",
     "evalue": "name 'larg_leg' is not defined",
     "output_type": "error",
     "traceback": [
      "\u001b[1;31m---------------------------------------------------------------------------\u001b[0m",
      "\u001b[1;31mNameError\u001b[0m                                 Traceback (most recent call last)",
      "\u001b[1;32m<ipython-input-3-a3f8ddb89698>\u001b[0m in \u001b[0;36m<module>\u001b[1;34m\u001b[0m\n\u001b[1;32m----> 1\u001b[1;33m \u001b[0mlarg_leg\u001b[0m\u001b[1;33m.\u001b[0m\u001b[0mshape\u001b[0m\u001b[1;33m\u001b[0m\u001b[1;33m\u001b[0m\u001b[0m\n\u001b[0m",
      "\u001b[1;31mNameError\u001b[0m: name 'larg_leg' is not defined"
     ]
    }
   ],
   "source": [
    "larg_leg.shape"
   ]
  },
  {
   "cell_type": "code",
   "execution_count": 56,
   "metadata": {},
   "outputs": [],
   "source": [
    "def gen_movie(data,tt,sch1,sch2):\n",
    "    '''meaningful input: top view:(0,2)  left view:(1,0)  front view:(1,2)'''\n",
    "    mapp = np.zeros((tt,600,600),dtype = np.uint8)\n",
    "    for t in range(tt):\n",
    "        for i in range(0, data.shape[1]):  #  [0,5,19,24,10,29,15,34]:\n",
    "            for j in range(-3,3):\n",
    "                for k in range(-3,3):\n",
    "                    if(i<180):\n",
    "                        \n",
    "                        if(sch1==1 and sch2==2):\n",
    "                            mapp[t,int(100*data[t,i,sch1]+350)+j,int(300+100*data[t,i,sch2])+k] = 255\n",
    "                        elif(sch1==1 and sch2==0):\n",
    "                            mapp[t,int(100*data[t,i,sch1]+350)+j,int(100+100*data[t,i,sch2])+k] = 255\n",
    "                        elif(sch1==0 and sch2==2):\n",
    "                            mapp[t,int(100*data[t,i,sch1]+100)+j,int(300+100*data[t,i,sch2])+k] = 255\n",
    "                    else:\n",
    "                        if(sch1==1 and sch2==2):\n",
    "                            mapp[t,int(100*data[t,i,sch1]+350)+j,int(300+100*data[t,i,sch2])+k] = 130\n",
    "                        elif(sch1==1 and sch2==0):\n",
    "                            mapp[t,int(100*data[t,i,sch1]+350)+j,int(100+100*data[t,i,sch2])+k] = 130\n",
    "                        elif(sch1==0 and sch2==2):\n",
    "                            mapp[t,int(100*data[t,i,sch1]+100)+j,int(300+100*data[t,i,sch2])+k] = 130\n",
    "    return mapp\n",
    "def play_movie(mapp,tt,speed):\n",
    "    for t in range(tt):\n",
    "        cv2.imshow('reconstruct_movie',mapp[t])\n",
    "        if cv2.waitKey(speed) & 0xFF == ord('q'):\n",
    "            break\n",
    "def write_movie(mapp,tt,name):\n",
    "    out = cv2.VideoWriter(name,cv2.VideoWriter_fourcc('M','J','P','G'),100,(600,600))\n",
    "    bgr = np.zeros((600,600,3),dtype = np.uint8)\n",
    "    for t in range(tt): \n",
    "        bgr[:,:,0] = mapp[t]\n",
    "        bgr[:,:,1] = mapp[t]\n",
    "        bgr[:,:,2] = mapp[t]\n",
    "        out.write(bgr)\n",
    "def interpolation(data, t, leg, pos, num):\n",
    "    '''pos = 0,1,2,3  t = 0 , leg = left:0, 5, 10,  right:19, 24, 29'''\n",
    "    ex_point = data[t,leg+pos,:].reshape(1,3)\n",
    "    next_point = data[t,leg+pos+1,:].reshape(1,3)\n",
    "    lam = np.linspace(0,1,num).reshape(num,1)\n",
    "    enlarge_leg = lam * ex_point + (1 - lam) * next_point\n",
    "    return enlarge_leg\n",
    "\n",
    "points = np.load('recon_points.npy')\n",
    "num = 15\n",
    "enlarge_leg = np.zeros((899,24,num,3))\n",
    "for t in range(0,899):\n",
    "    i = 0\n",
    "    for leg in range(6):\n",
    "        for pos in range(4):\n",
    "            enlarge_leg[t,i+pos,:,:] = interpolation(points,t,leg*5,pos,num)\n",
    "        i += 4\n",
    "larg_leg = enlarge_leg.reshape(899,24*num,3)"
   ]
  },
  {
   "cell_type": "code",
   "execution_count": 38,
   "metadata": {},
   "outputs": [],
   "source": [
    "'''top view:(0,2)'''\n",
    "tt = 899\n",
    "speed = 10\n",
    "#mapp_t = gen_movie(larg_leg,tt,0,2)\n",
    "#play_movie(mapp_t,tt,speed)\n",
    "cv2.destroyAllWindows()\n",
    "name = 'Recon_movie_top.avi'\n",
    "write_movie(mapp_t,tt,name)"
   ]
  },
  {
   "cell_type": "code",
   "execution_count": 4,
   "metadata": {},
   "outputs": [
    {
     "data": {
      "text/plain": [
       "(899, 800, 800)"
      ]
     },
     "execution_count": 4,
     "metadata": {},
     "output_type": "execute_result"
    }
   ],
   "source": [
    "mapp_t.shape"
   ]
  },
  {
   "cell_type": "code",
   "execution_count": 18,
   "metadata": {},
   "outputs": [],
   "source": [
    "'''left view:(1,0)'''\n",
    "tt = 899\n",
    "speed = 10\n",
    "mapp_l = gen_movie(larg_leg,tt,1,0)\n",
    "play_movie(mapp_l,tt,speed)\n",
    "cv2.destroyAllWindows()\n",
    "name = 'Recon_movie_left.avi'\n",
    "#write_movie(mapp,tt,name)"
   ]
  },
  {
   "cell_type": "code",
   "execution_count": 34,
   "metadata": {},
   "outputs": [],
   "source": [
    "speed = 10\n",
    "play_movie(mapp,tt,speed)\n",
    "cv2.destroyAllWindows()"
   ]
  },
  {
   "cell_type": "code",
   "execution_count": 19,
   "metadata": {},
   "outputs": [],
   "source": [
    "'''front view:(1,2)'''\n",
    "tt = 899\n",
    "speed = 10\n",
    "mapp_f = gen_movie(larg_leg,tt,1,2)\n",
    "play_movie(mapp_f,tt,speed)\n",
    "cv2.destroyAllWindows()\n",
    "name = 'Recon_movie_front.avi'\n",
    "#write_movie(mapp,tt,name)"
   ]
  },
  {
   "cell_type": "code",
   "execution_count": 16,
   "metadata": {},
   "outputs": [],
   "source": [
    "map_sum = np.concatenate((mapp_l,mapp_t,mapp_f),axis=2)\n",
    "play_movie(map_sum,tt,int(20))\n",
    "cv2.destroyAllWindows()"
   ]
  },
  {
   "cell_type": "code",
   "execution_count": 17,
   "metadata": {},
   "outputs": [],
   "source": [
    "std_data = np.load('std_data.npy')\n",
    "num = 15\n",
    "enlarge_leg = np.zeros((899,24,num,3))\n",
    "for t in range(0,899):\n",
    "    i = 0\n",
    "    for leg in [0,5,10,19,24,29]:\n",
    "        for pos in range(4):\n",
    "            enlarge_leg[t,i+pos,:,:] = interpolation(std_data,t,leg,pos,num)\n",
    "        i += 4\n",
    "larg_leg = enlarge_leg.reshape(899,24*num,3)"
   ]
  },
  {
   "cell_type": "code",
   "execution_count": 43,
   "metadata": {},
   "outputs": [],
   "source": [
    "#map_sum_org = np.concatenate((mapp_l,mapp_t,mapp_f),axis=2)\n",
    "play_movie(map_sum_org,tt,int(10))\n",
    "cv2.destroyAllWindows()\n"
   ]
  },
  {
   "cell_type": "code",
   "execution_count": 63,
   "metadata": {},
   "outputs": [],
   "source": [
    "map_org_recon = np.concatenate((map_sum_org, map_sum),axis=1)\n",
    "play_movie(map_org_recon,tt,int(10))\n",
    "cv2.destroyAllWindows()"
   ]
  },
  {
   "cell_type": "code",
   "execution_count": 91,
   "metadata": {},
   "outputs": [],
   "source": [
    "def write_movie_(mapp,tt,name):\n",
    "    out = cv2.VideoWriter(name,cv2.VideoWriter_fourcc('M','J','P','G'),50,(1800,1200))\n",
    "    bgr = np.zeros((1200,1800,3),dtype = np.uint8)\n",
    "    for t in range(tt): \n",
    "        bgr[:,:,0] = np.floor(0.7*mapp[t]).astype(np.uint8)\n",
    "        bgr[:,:,1] = np.floor(0.7*mapp[t]).astype(np.uint8)\n",
    "        bgr[:,:,2] = np.floor(0.9*mapp[t]).astype(np.uint8)\n",
    "        out.write(bgr)\n",
    "tt=899\n",
    "name = 'org_recon_moive_0.5slow.avi'#map_org_recon[:,:800,:800]\n",
    "write_movie_(map_org_recon,tt,name)"
   ]
  },
  {
   "cell_type": "code",
   "execution_count": 62,
   "metadata": {},
   "outputs": [
    {
     "data": {
      "text/plain": [
       "(899, 1200, 1600)"
      ]
     },
     "execution_count": 62,
     "metadata": {},
     "output_type": "execute_result"
    }
   ],
   "source": [
    "map_org_recon.shape"
   ]
  },
  {
   "cell_type": "code",
   "execution_count": null,
   "metadata": {},
   "outputs": [],
   "source": []
  },
  {
   "cell_type": "code",
   "execution_count": null,
   "metadata": {},
   "outputs": [],
   "source": [
    "name = 'org_recon_moive.avi'\n",
    "write_movie(map_org_recon,tt,name)"
   ]
  }
 ],
 "metadata": {
  "kernelspec": {
   "display_name": "Python 3",
   "language": "python",
   "name": "python3"
  },
  "language_info": {
   "codemirror_mode": {
    "name": "ipython",
    "version": 3
   },
   "file_extension": ".py",
   "mimetype": "text/x-python",
   "name": "python",
   "nbconvert_exporter": "python",
   "pygments_lexer": "ipython3",
   "version": "3.7.1"
  }
 },
 "nbformat": 4,
 "nbformat_minor": 2
}
