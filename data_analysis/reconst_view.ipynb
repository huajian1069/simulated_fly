{
 "cells": [
  {
   "cell_type": "code",
   "execution_count": 42,
   "metadata": {},
   "outputs": [
    {
     "name": "stdout",
     "output_type": "stream",
     "text": [
      "The autoreload extension is already loaded. To reload it, use:\n",
      "  %reload_ext autoreload\n"
     ]
    }
   ],
   "source": [
    "%matplotlib inline\n",
    "import numpy as np\n",
    "import matplotlib.pyplot as plt\n",
    "import cv2\n",
    "%load_ext autoreload\n",
    "%autoreload 2"
   ]
  },
  {
   "cell_type": "code",
   "execution_count": 43,
   "metadata": {},
   "outputs": [
    {
     "name": "stdout",
     "output_type": "stream",
     "text": [
      "The dimension is \n",
      "(899, 38, 3)\n"
     ]
    },
    {
     "data": {
      "text/plain": [
       "(3, 38, 899)"
      ]
     },
     "execution_count": 43,
     "metadata": {},
     "output_type": "execute_result"
    }
   ],
   "source": [
    "a = np.load('pose_result__data_paper_180918_MDN_PR_Fly1_001_SG1_behData_images.pkl')\n",
    "data = a['points3d'].copy()\n",
    "print('The dimension is ')\n",
    "print(data.shape)\n",
    "t = np.linspace(0,9,900)\n",
    "data.T.shape"
   ]
  },
  {
   "cell_type": "code",
   "execution_count": 44,
   "metadata": {},
   "outputs": [
    {
     "name": "stdout",
     "output_type": "stream",
     "text": [
      "x-axis angel:  38.99554730142681\n"
     ]
    }
   ],
   "source": [
    "def interpolation(data, t, leg, pos, num):\n",
    "    '''pos = 0,1,2,3  t = 0 , leg = left:0, 5, 10,  right:19, 24, 29'''\n",
    "    ex_point = data[t,leg+pos,:].reshape(1,3)\n",
    "    next_point = data[t,leg+pos+1,:].reshape(1,3)\n",
    "    lam = np.linspace(0,1,num).reshape(num,1)\n",
    "    enlarge_leg = lam * ex_point + (1 - lam) * next_point\n",
    "    return enlarge_leg\n",
    "def rotaMatr(v1,v2):\n",
    "    u = np.cross(v1,v2)\n",
    "    u = u/np.linalg.norm(u)\n",
    "    th = intersection_angle(v1,v2)\n",
    "    r = np.zeros((3,3))\n",
    "    c = np.cos(th)\n",
    "    s = np.sin(th)\n",
    "    ux = u[0]\n",
    "    uy = u[1]\n",
    "    uz = u[2]\n",
    "    r[0,0] = c + ux**2*(1-c)\n",
    "    r[0,1] = ux*uy*(1-c) - uz*s\n",
    "    r[0,2] = ux*uz*(1-c) + uy*s\n",
    "    \n",
    "    r[1,0] = ux*uy*(1-c) + uz*s\n",
    "    r[1,1] = c + uy**2*(1-c)\n",
    "    r[1,2] = uy*uz*(1-c) - ux*s\n",
    "    \n",
    "    r[2,0] = uz*ux*(1-c) - uy*s\n",
    "    r[2,1] = uz*uy*(1-c) + ux*s\n",
    "    r[2,2] = c + uz**2*(1-c)\n",
    "    return r\n",
    "def rotaVD(vector,dif):\n",
    "    u = vector/np.linalg.norm(vector)\n",
    "    th = dif\n",
    "    r = np.zeros((3,3))\n",
    "    c = np.cos(th)\n",
    "    s = np.sin(th)\n",
    "    ux = u[0]\n",
    "    uy = u[1]\n",
    "    uz = u[2]\n",
    "    r[0,0] = c + ux**2*(1-c)\n",
    "    r[0,1] = ux*uy*(1-c) - uz*s\n",
    "    r[0,2] = ux*uz*(1-c) + uy*s\n",
    "    \n",
    "    r[1,0] = ux*uy*(1-c) + uz*s\n",
    "    r[1,1] = c + uy**2*(1-c)\n",
    "    r[1,2] = uy*uz*(1-c) - ux*s\n",
    "    \n",
    "    r[2,0] = uz*ux*(1-c) - uy*s\n",
    "    r[2,1] = uz*uy*(1-c) + ux*s\n",
    "    r[2,2] = c + uz**2*(1-c)\n",
    "    return r\n",
    "def leg_len(data, t, leg, pos):\n",
    "    '''pos = 0,1,2,3  t = 0 , leg = left:0, 5, 10,  right:19, 24, 29'''\n",
    "    ex_point = data[t,leg+pos,:]\n",
    "    next_point = data[t,leg+pos+1,:]\n",
    "    nxt_v = next_point - ex_point\n",
    "    return np.linalg.norm(nxt_v), nxt_v\n",
    "def leg_inner(data, t, leg, pos):   \n",
    "    '''pos = 1,2,3  t = 0 , leg = 0, 5, 10,       19, 24, 29'''\n",
    "    ex_point = data[t,leg+pos,:]\n",
    "    pre_point = data[t,leg+pos-1,:]\n",
    "    next_point = data[t,leg+pos+1,:]\n",
    "    pre_v = ex_point - pre_point\n",
    "    nxt_v = next_point - ex_point\n",
    "    return intersection_angle(pre_v, nxt_v)\n",
    "def intersection_angle(a,b):\n",
    "    return np.arccos(a@b/np.linalg.norm(a)/np.linalg.norm(b))\n",
    "def ag2(angle):\n",
    "    return angle/np.pi*180\n",
    "def views3(data,t,sch1,sch2,ax):\n",
    "    '''meaningful input: top view:(0,2)  left view:(1,0)  front view:(1,2)'''\n",
    "    mapp = np.zeros((800,800))\n",
    "    for i in range(0,data.shape[1]):  #  [0,5,19,24,10,29,15,34]:\n",
    "        for j in range(-3,3):\n",
    "            for k in range(-3,3):\n",
    "                mapp[int(100*data[t,i,sch1]+300)+j,int(400+100*data[t,i,sch2])+k] = 10\n",
    "    ax.imshow(mapp)\n",
    "    #cv2.imshow('projection view',mapp)\n",
    "    #cv2.waitKey(10)\n",
    "def views_eachleg(data,t,leg,sch1,sch2,ax):\n",
    "    # require data: (frame,  point,  dimension)\n",
    "    '''meaningful input: top view:(0,2)  left view:(1,0)  front view:(1,2)'''\n",
    "    mapp = np.zeros((800,800))\n",
    "    for i in range(leg*4*num,(leg+1)*4*num):#range(0,data.shape[1]):  #  [0,5,19,24,10,29,15,34]:\n",
    "        for j in range(-3,3):\n",
    "            for k in range(-3,3):\n",
    "                mapp[int(100*data[t,i,sch1]+300)+j,int(300+100*data[t,i,sch2])+k] = 10\n",
    "    ax.imshow(mapp)\n",
    "    #cv2.imshow('projection view',mapp)\n",
    "    #cv2.waitKey(10)\n",
    "def set_coord():\n",
    "    v_ref = np.array([0,0,1])\n",
    "    v1 = data[0,0,:] - data[0,19,:]\n",
    "    v2 = data[0,5,:] - data[0,24,:]\n",
    "    v3 = data[0,10,:] - data[0,29,:]\n",
    "    v4 = data[0,15,:] - data[0,34,:]\n",
    "    xx = v1+v2+v3+v4\n",
    "    x_ref = xx/np.linalg.norm(xx)\n",
    "    x_ref[1] = 0\n",
    "    print('x-axis angel: ',ag2(intersection_angle(v_ref,x_ref)))\n",
    "    return x_ref\n",
    "coord_x = set_coord()\n",
    "#an = 38/180*np.pi\n",
    "#x_ref = np.array([np.sin(an),0,np.cos(an)])\n",
    "#print(x_ref)\n",
    "R_std = rotaMatr(coord_x,np.array([0,0,1]))\n",
    "std_data = np.zeros(data.shape)\n",
    "for i in range(899):\n",
    "    std_data[i,:,:] = (R_std @ (data[i,:].T)).T\n",
    "#coord_x = x_ref\n",
    "coord_y = np.array([0,-1,0])\n",
    "coord_z = np.cross(coord_x,coord_y)\n",
    "legname = ['left front', 'left middle', 'left hind', 'right front', 'right middle', 'right hind']"
   ]
  },
  {
   "cell_type": "code",
   "execution_count": 59,
   "metadata": {},
   "outputs": [],
   "source": [
    "angle_data1 = np.zeros((899,18))\n",
    "angle_data3 = np.zeros((899,18))\n",
    "def leg_1dof(t):\n",
    "    i = 0\n",
    "    for leg in [0,5,10,19,24,29]:\n",
    "        #if(leg == 0 ): print('Left leg')\n",
    "        #elif(leg == 19 ): print('Right leg')\n",
    "        for pos in range(1,4):\n",
    "            if(pos == 2):\n",
    "                angle_data1[t,i+pos-1] = -leg_inner(data,t=t,leg=leg,pos=pos)\n",
    "                #print(ag2(angle_data1[0,i+pos-1]))\n",
    "            else:\n",
    "                angle_data1[t,i+pos-1] = leg_inner(data,t=t,leg=leg,pos=pos)\n",
    "                #print(ag2(angle_data1[0,i+pos-1]))\n",
    "        i+=3\n",
    "        #print('\\n')\n",
    "for i in range(899):        \n",
    "    leg_1dof(i)\n",
    "def leg_3dof(t):\n",
    "    j = 0\n",
    "    for i in [0,5,10,19,24,29]:\n",
    "        if(i == 0 or i == 5 or i ==10):\n",
    "            lrcoord_z = coord_z;\n",
    "            lrcoord_x = coord_x;\n",
    "        else:\n",
    "            lrcoord_z = -coord_z;\n",
    "            lrcoord_x = -coord_x;\n",
    "        lrcoord_y = coord_y \n",
    "        x_r = data[t,i+1,:] - data[t,i+0,:]\n",
    "        xr_proj = x_r.copy()\n",
    "        xr_y = xr_proj[1]\n",
    "        xr_proj[1] = 0;\n",
    "        \n",
    "        theta_z = intersection_angle(lrcoord_z, xr_proj)\n",
    "        theta_x = intersection_angle(lrcoord_x, xr_proj)\n",
    "        if(theta_z < np.pi/2):\n",
    "            angle_1 = -theta_x\n",
    "        else:\n",
    "            angle_1 = theta_x\n",
    "        #print('angle1')\n",
    "        angle_data3[t,j] = angle_1\n",
    "        #print(ag2(angle_1))\n",
    "        angle_2 = np.pi/2 - intersection_angle(lrcoord_y,x_r)\n",
    "        #print('angle2')\n",
    "        angle_data3[t,j+1] = angle_2 \n",
    "        #print(ag2(angle_2))\n",
    "        y_slope = data[t,i+2,:] - data[t,i+1,:]\n",
    "        #  how to make sure y_slope direction, Yes, sure\n",
    "        z_r = np.cross(x_r, y_slope)\n",
    "        R1 = rotaMatr(lrcoord_x, xr_proj)\n",
    "        rel_coord_z = R1 @ lrcoord_z\n",
    "        R2 = rotaMatr(xr_proj, x_r)\n",
    "        rel_coord_y = R2 @ lrcoord_y\n",
    "        theta3_y = intersection_angle(rel_coord_y, z_r)\n",
    "        theta3_z = intersection_angle(rel_coord_z, z_r)\n",
    "        #print(\"theta3_y = \",ag2(theta3_y),\"theta3_z = \",ag2(theta3_z))\n",
    "        #print(\"sum = \",ag2(theta3_y+theta3_z), 'dif = ',ag2(theta3_y-theta3_z))\n",
    "        if(theta3_y < np.pi/2):\n",
    "            angle_3 = -theta3_z #+ dif\n",
    "        else:\n",
    "            angle_3 = theta3_z #+ dif\n",
    "        #print('angle3')\n",
    "        angle_data3[t,j+2] = angle_3\n",
    "        #print(ag2(angle_3))\n",
    "        #print('\\n')\n",
    "        j += 3\n",
    "    return angle_1,angle_2,angle_3\n",
    "\n",
    "for i in range(899):\n",
    "    leg_3dof(i)\n",
    "\n",
    "R_std = rotaMatr(coord_x,np.array([0,0,1]))\n",
    "std_data = np.zeros(data.shape)\n",
    "for i in range(899):\n",
    "    std_data[i,:,:] = (R_std @ (data[i,:].T)).T\n",
    "tt = 899\n",
    "length = np.zeros((tt,24))\n",
    "vec_r = np.zeros((tt,24,3))\n",
    "for t in range(0,tt):\n",
    "    i = 0\n",
    "    for leg in [0,5,10,19,24,29]:\n",
    "        for pos in range(4):\n",
    "            length[t,i+pos],vec_r[t,i+pos] = leg_len(std_data,t,leg,pos)\n",
    "        i += 4"
   ]
  },
  {
   "cell_type": "code",
   "execution_count": 57,
   "metadata": {},
   "outputs": [
    {
     "data": {
      "text/plain": [
       "array([[ 2.05307146, -1.41059424,  0.44598874, ...,  2.18939718,\n",
       "        -2.18443594,  0.68695063],\n",
       "       [ 2.05307146, -1.42735261,  0.51868172, ...,  2.14447528,\n",
       "        -2.13677149,  0.60375207],\n",
       "       [ 2.06677054, -1.42735261,  0.53256001, ...,  2.15539072,\n",
       "        -2.15116469,  0.60662776],\n",
       "       ...,\n",
       "       [ 2.52916757, -2.21701623,  0.59501483, ...,  1.85301046,\n",
       "        -1.89492334,  0.58780548],\n",
       "       [ 2.52916757, -2.21701623,  0.59501483, ...,  1.85301046,\n",
       "        -1.89492334,  0.58780548],\n",
       "       [ 2.52916757, -2.21701623,  0.59501483, ...,  1.88010082,\n",
       "        -1.88838161,  0.6177853 ]])"
      ]
     },
     "execution_count": 57,
     "metadata": {},
     "output_type": "execute_result"
    }
   ],
   "source": [
    "angle3\n",
    "angle1"
   ]
  },
  {
   "cell_type": "code",
   "execution_count": 61,
   "metadata": {},
   "outputs": [
    {
     "name": "stdout",
     "output_type": "stream",
     "text": [
      "The shape of loaded angle3 is  (899, 18)\n",
      "The shape of loaded angle1 is (899, 18)\n",
      "The shape of angle3 is  (899, 18)\n",
      "The shape of angle1 is (899, 18)\n"
     ]
    }
   ],
   "source": [
    "def ag2(angle):\n",
    "    return angle/np.pi*180\n",
    "angle3 = np.loadtxt('ch_angle3.csv').T\n",
    "angle1 = np.load('angle_1d.npy')\n",
    "print(\"The shape of loaded angle3 is \",angle3.shape)\n",
    "print(\"The shape of loaded angle1 is\",angle1.shape)\n",
    "print(\"The shape of angle3 is \",angle_data3.shape)\n",
    "print(\"The shape of angle1 is\",angle_data1.shape)\n",
    "angle_data3 = angle3\n",
    "angle_data1 = angle1"
   ]
  },
  {
   "cell_type": "code",
   "execution_count": 62,
   "metadata": {},
   "outputs": [
    {
     "name": "stdout",
     "output_type": "stream",
     "text": [
      "The coordinate of 30 points are: \n",
      "\n",
      " left front\n",
      "[ 2.27273804 -1.88360318  0.43356338]\n",
      "[ 2.09070084 -1.51453041  0.38799455]\n",
      "[ 2.60679995 -1.56054389  0.83364334]\n",
      "[ 2.61922022 -0.99515478  1.0235752 ]\n",
      "[ 2.86260746 -0.46285052  1.40899382]\n",
      "\n",
      " left middle\n",
      "[ 1.78442367 -1.77787974  0.19873547]\n",
      "[ 1.77385198 -1.46923974  0.16102575]\n",
      "[ 1.53712587 -1.86417384  0.92850569]\n",
      "[ 1.43848816 -1.0506355   1.03250546]\n",
      "[ 1.18566701 -0.43500532  1.62329001]\n",
      "\n",
      " left hind\n",
      "[ 1.58355454 -1.73262418  0.15236787]\n",
      "[ 1.51584936 -1.43827944  0.14065185]\n",
      "[ 0.90836722 -1.8160632   0.71863405]\n",
      "[ 0.63580895 -0.95657902  0.74511335]\n",
      "[ 0.11782799 -0.29770104  1.01595487]\n",
      "\n",
      " right front\n",
      "[ 2.26088399 -1.94177511 -0.65337624]\n",
      "[ 2.04812517 -1.60863384 -0.48059832]\n",
      "[ 2.5940632  -1.86039115 -0.90151665]\n",
      "[ 2.46388138 -1.30412494 -0.78269126]\n",
      "[ 2.66348138 -0.65834287 -0.90914273]\n",
      "\n",
      " right middle\n",
      "[ 1.80490275 -1.8597792  -0.43832053]\n",
      "[ 1.78743276 -1.55126813 -0.39485321]\n",
      "[ 1.60420396 -1.97994192 -1.24573993]\n",
      "[ 1.53459248 -1.1777087  -1.22483824]\n",
      "[ 1.32503315 -0.50340995 -1.78269512]\n",
      "\n",
      " right hind\n",
      "[ 1.566737   -1.79995766 -0.45996971]\n",
      "[ 1.49972236 -1.50594954 -0.42502381]\n",
      "[ 1.09960273 -2.08852577 -1.05277915]\n",
      "[ 0.91430043 -1.28801686 -0.96060532]\n",
      "[ 0.31457976 -0.58738498 -1.33848922]\n"
     ]
    }
   ],
   "source": [
    "def reconst(t):\n",
    "    root = np.zeros((6,3))\n",
    "    for j,i in enumerate([0,5,10,19,24,29]):\n",
    "        root[j] = std_data[t,i,:] \n",
    "    theta3 = angle_data3[t]\n",
    "    theta1 = angle_data1[t]\n",
    "    for i in range(0,6):\n",
    "        v1 = np.zeros(3)\n",
    "        p0 = root[i]\n",
    "        if i >= 3:\n",
    "            v1[0] = -np.cos(theta3[i*3+1]) * np.sin(-theta3[3*i])\n",
    "            v1[1] = np.sin(-theta3[i*3+1]) \n",
    "            v1[2] = -np.cos(theta3[i*3+1]) * np.cos(theta3[3*i])\n",
    "            x_axis = -np.array([1,0,0])\n",
    "        else:\n",
    "            v1[0] = np.cos(theta3[i*3+1]) * np.sin(-theta3[3*i])\n",
    "            v1[1] = np.sin(-theta3[i*3+1]) \n",
    "            v1[2] = np.cos(theta3[i*3+1]) * np.cos(theta3[3*i])\n",
    "            x_axis = np.array([1,0,0])\n",
    "        v1_l = v1 * length[t,4*i]   # or *const\n",
    "        p1 = p0 + v1_l\n",
    "        \n",
    "        y_axis = np.array([0,1,0])\n",
    "        Ry = rotaVD(-y_axis, theta3[3*i])\n",
    "        xx = Ry @ x_axis\n",
    "        Rx = rotaVD(v1, theta3[3*i+2])\n",
    "        z_xxx = Rx @ xx\n",
    "        R12 = rotaVD(z_xxx, theta1[3*i])\n",
    "        v2 = R12 @ v1\n",
    "        v2_l = v2 * length[t,4*i+1] \n",
    "        p2 = p1 + v2_l\n",
    "\n",
    "        R23 = rotaVD(z_xxx, theta1[3*i+1])\n",
    "        v3 = R23 @ v2\n",
    "        v3_l = v3 * length[t,4*i+2] \n",
    "        p3 = p2 + v3_l\n",
    "    \n",
    "        R34 = rotaVD(z_xxx, theta1[3*i+2])\n",
    "        v4 = R34 @ v3\n",
    "        v4_l = v4 * length[t,4*i+3]\n",
    "        p4 = p3 + v4_l\n",
    "        \n",
    "        points[t,i*5] = p0\n",
    "        points[t,i*5+1] = p1\n",
    "        points[t,i*5+2] = p2\n",
    "        points[t,i*5+3] = p3\n",
    "        points[t,i*5+4] = p4\n",
    "        vectors[t,i*4] = v1\n",
    "        vectors[t,i*4+1] = v2\n",
    "        vectors[t,i*4+2] = v3\n",
    "        vectors[t,i*4+3] = v4\n",
    "\n",
    "points = np.zeros((899,30,3))\n",
    "vectors = np.zeros((899,24,3))\n",
    "for t in range(899):\n",
    "    reconst(t)\n",
    "num = 15\n",
    "enlarge_leg = np.zeros((899,24,num,3))\n",
    "for t in range(0,899):\n",
    "    i = 0\n",
    "    for leg in range(6):\n",
    "        for pos in range(4):\n",
    "            enlarge_leg[t,i+pos,:,:] = interpolation(points,t,leg*5,pos,num)\n",
    "        i += 4\n",
    "larg_leg = enlarge_leg.reshape(899,24*num,3)\n",
    "\n",
    "print('The coordinate of 30 points are: ')\n",
    "t = 0\n",
    "for i in range(6):\n",
    "    print('\\n',legname[i])\n",
    "    [print(points[t,int(i*5+j)]) for j in range(5)]"
   ]
  },
  {
   "cell_type": "code",
   "execution_count": null,
   "metadata": {},
   "outputs": [],
   "source": [
    "[ 2.27273804 -1.88360318  0.43356338]\n",
    "[ 2.09070084 -1.51453041  0.38799455]\n",
    "[ 2.60679995 -1.56054389  0.83364334]\n",
    "[ 2.61922022 -0.99515478  1.0235752 ]\n",
    "[ 2.86260746 -0.46285052  1.40899382]\n",
    "\n",
    " left middle\n",
    "[ 1.78442367 -1.77787974  0.19873547]\n",
    "[ 1.77385198 -1.46923974  0.16102575]\n",
    "[ 1.53712587 -1.86417384  0.92850569]\n",
    "[ 1.43848816 -1.0506355   1.03250546]\n",
    "[ 1.18566701 -0.43500532  1.62329001]\n",
    "\n",
    " left hind\n",
    "[ 1.58355454 -1.73262418  0.15236787]\n",
    "[ 1.51584936 -1.43827944  0.14065185]\n",
    "[ 0.90836722 -1.8160632   0.71863405]\n",
    "[ 0.63580895 -0.95657902  0.74511335]\n",
    "[ 0.11782799 -0.29770104  1.01595487]\n",
    "\n",
    " right front\n",
    "[ 2.26088399 -1.94177511 -0.65337624]\n",
    "[ 2.04812517 -1.60863384 -0.48059832]\n",
    "[ 2.5940632  -1.86039115 -0.90151665]\n",
    "[ 2.46388138 -1.30412494 -0.78269126]\n",
    "[ 2.66348138 -0.65834287 -0.90914273]\n",
    "\n",
    " right middle\n",
    "[ 1.80490275 -1.8597792  -0.43832053]\n",
    "[ 1.78743276 -1.55126813 -0.39485321]\n",
    "[ 1.60420396 -1.97994192 -1.24573993]\n",
    "[ 1.53459248 -1.1777087  -1.22483824]\n",
    "[ 1.32503315 -0.50340995 -1.78269512]\n",
    "\n",
    " right hind\n",
    "[ 1.566737   -1.79995766 -0.45996971]\n",
    "[ 1.49972236 -1.50594954 -0.42502381]\n",
    "[ 1.09960273 -2.08852577 -1.05277915]\n",
    "[ 0.91430043 -1.28801686 -0.96060532]\n",
    "[ 0.31457976 -0.58738498 -1.33848922]"
   ]
  },
  {
   "cell_type": "code",
   "execution_count": 64,
   "metadata": {},
   "outputs": [
    {
     "name": "stdout",
     "output_type": "stream",
     "text": [
      "six leg\n"
     ]
    },
    {
     "data": {
      "image/png": "[encoded data removed]",
      "text/plain": [
       "<Figure size 1080x1080 with 3 Axes>"
      ]
     },
     "metadata": {
      "needs_background": "light"
     },
     "output_type": "display_data"
    }
   ],
   "source": [
    "'''left view'''\n",
    "t = 310\n",
    "fig, [ax1, ax2, ax3]= plt.subplots(1, 3, figsize=(15,15))\n",
    "views3(larg_leg,t,1,0,ax1)\n",
    "ax1.set_title('left view')\n",
    "\n",
    "'''top view'''\n",
    "\n",
    "views3(larg_leg,t,0,2,ax2)\n",
    "ax2.set_title('top view')\n",
    "\n",
    "'''front view'''\n",
    "\n",
    "views3(larg_leg,t,1,2,ax3)\n",
    "ax3.set_title('front view')\n",
    "print('six leg')"
   ]
  },
  {
   "cell_type": "code",
   "execution_count": 65,
   "metadata": {},
   "outputs": [
    {
     "name": "stdout",
     "output_type": "stream",
     "text": [
      "six leg\n",
      "six leg\n",
      "six leg\n"
     ]
    },
    {
     "data": {
      "text/plain": [
       "<Figure size 432x288 with 0 Axes>"
      ]
     },
     "metadata": {},
     "output_type": "display_data"
    },
    {
     "data": {
      "image/png": "[encoded data removed]",
      "text/plain": [
       "<Figure size 1080x1080 with 9 Axes>"
      ]
     },
     "metadata": {
      "needs_background": "light"
     },
     "output_type": "display_data"
    }
   ],
   "source": [
    "plt.tight_layout()\n",
    "fig, axes = plt.subplots(3, 3, figsize=(15,15))\n",
    "ts = [0, 350, 600]\n",
    "for i, t in enumerate(ts):\n",
    "    '''left view'''\n",
    "    views3(larg_leg,t,1,0,axes[i,0])\n",
    "    axes[0,0].set_title('left view',fontsize=25)\n",
    "\n",
    "    '''top view'''\n",
    "    views3(larg_leg,t,0,2,axes[i,1])\n",
    "    axes[0,1].set_title('top view',fontsize=25)\n",
    "\n",
    "    '''front view'''\n",
    "    views3(larg_leg,t,1,2,axes[i,2])\n",
    "    axes[0,2].set_title('front view',fontsize=25)\n",
    "    print('six leg')\n",
    "    axes[i,0].get_xaxis().set_visible(False)\n",
    "    #axes[i,0].get_yaxis().set_visible(False)\n",
    "    axes[i,1].get_xaxis().set_visible(False)\n",
    "    axes[i,1].get_yaxis().set_visible(False)\n",
    "    axes[i,2].get_xaxis().set_visible(False)\n",
    "    axes[i,2].get_yaxis().set_visible(False)\n",
    "    plt.tight_layout()\n",
    "    axes[i,0].set_ylabel('T = %s s'%(str(t/100)), fontsize=25)"
   ]
  },
  {
   "cell_type": "code",
   "execution_count": 41,
   "metadata": {},
   "outputs": [],
   "source": [
    "fig.savefig('../../Pictures/recon_3point_legs_.jpg')"
   ]
  },
  {
   "cell_type": "code",
   "execution_count": 66,
   "metadata": {},
   "outputs": [
    {
     "name": "stdout",
     "output_type": "stream",
     "text": [
      "left front leg\n"
     ]
    },
    {
     "data": {
      "image/png": "[encoded data removed]",
      "text/plain": [
       "<Figure size 1080x1080 with 3 Axes>"
      ]
     },
     "metadata": {
      "needs_background": "light"
     },
     "output_type": "display_data"
    }
   ],
   "source": [
    "'''left view'''\n",
    "t = 220\n",
    "leg = 0\n",
    "fig, [ax1, ax2, ax3]= plt.subplots(1, 3, figsize=(15,15))\n",
    "views_eachleg(larg_leg,t,leg,1,0,ax1)\n",
    "ax1.set_title('left view')\n",
    "\n",
    "'''top view'''\n",
    "leg = 0\n",
    "views_eachleg(larg_leg,t,leg,0,2,ax2)\n",
    "ax2.set_title('top view')\n",
    "\n",
    "'''front view'''\n",
    "leg = 0\n",
    "views_eachleg(larg_leg,t,leg,1,2,ax3)\n",
    "ax3.set_title('front view')\n",
    "print('left front leg')"
   ]
  },
  {
   "cell_type": "code",
   "execution_count": 15,
   "metadata": {},
   "outputs": [
    {
     "name": "stdout",
     "output_type": "stream",
     "text": [
      "left middle leg\n"
     ]
    },
    {
     "data": {
      "image/png": "[encoded data removed]",
      "text/plain": [
       "<Figure size 1080x1080 with 3 Axes>"
      ]
     },
     "metadata": {
      "needs_background": "light"
     },
     "output_type": "display_data"
    }
   ],
   "source": [
    "'''left view'''\n",
    "leg = 1\n",
    "t = 0\n",
    "fig, [ax1, ax2, ax3]= plt.subplots(1, 3, figsize=(15,15))\n",
    "views_eachleg(larg_leg,t,leg,1,0,ax1)\n",
    "ax1.set_title('left view')\n",
    "\n",
    "'''top view'''\n",
    "leg = 1\n",
    "views_eachleg(larg_leg,t,leg,0,2,ax2)\n",
    "ax2.set_title('top view')\n",
    "\n",
    "'''front view'''\n",
    "leg = 1\n",
    "views_eachleg(larg_leg,t,leg,1,2,ax3)\n",
    "ax3.set_title('front view')\n",
    "print('left middle leg')"
   ]
  },
  {
   "cell_type": "code",
   "execution_count": 41,
   "metadata": {},
   "outputs": [
    {
     "name": "stdout",
     "output_type": "stream",
     "text": [
      "left hind leg\n"
     ]
    },
    {
     "data": {
      "image/png": "[encoded data removed]",
      "text/plain": [
       "<Figure size 1080x1080 with 3 Axes>"
      ]
     },
     "metadata": {
      "needs_background": "light"
     },
     "output_type": "display_data"
    }
   ],
   "source": [
    "'''left view'''\n",
    "leg = 2\n",
    "t = 0\n",
    "fig, [ax1, ax2, ax3]= plt.subplots(1, 3, figsize=(15,15))\n",
    "views_eachleg(larg_leg,t,leg,1,0,ax1)\n",
    "ax1.set_title('left view')\n",
    "\n",
    "'''top view'''\n",
    "leg = 2\n",
    "views_eachleg(larg_leg,t,leg,0,2,ax2)\n",
    "ax2.set_title('top view')\n",
    "\n",
    "'''front view'''\n",
    "leg = 2\n",
    "views_eachleg(larg_leg,t,leg,1,2,ax3)\n",
    "ax3.set_title('front view')\n",
    "print('left hind leg')"
   ]
  },
  {
   "cell_type": "code",
   "execution_count": 42,
   "metadata": {},
   "outputs": [
    {
     "name": "stdout",
     "output_type": "stream",
     "text": [
      "right front leg\n"
     ]
    },
    {
     "data": {
      "image/png": "[encoded data removed]",
      "text/plain": [
       "<Figure size 1080x1080 with 3 Axes>"
      ]
     },
     "metadata": {
      "needs_background": "light"
     },
     "output_type": "display_data"
    }
   ],
   "source": [
    "'''left view'''\n",
    "leg = 3\n",
    "t = 0\n",
    "fig, [ax1, ax2, ax3]= plt.subplots(1, 3, figsize=(15,15))\n",
    "views_eachleg(larg_leg,t,leg,1,0,ax1)\n",
    "ax1.set_title('left view')\n",
    "\n",
    "'''top view'''\n",
    "leg = 3\n",
    "views_eachleg(larg_leg,t,leg,0,2,ax2)\n",
    "ax2.set_title('top view')\n",
    "\n",
    "'''front view'''\n",
    "leg = 3\n",
    "views_eachleg(larg_leg,t,leg,1,2,ax3)\n",
    "ax3.set_title('front view')\n",
    "print('right front leg')"
   ]
  },
  {
   "cell_type": "code",
   "execution_count": 39,
   "metadata": {},
   "outputs": [
    {
     "name": "stdout",
     "output_type": "stream",
     "text": [
      "right middle leg\n"
     ]
    },
    {
     "data": {
      "image/png": "[encoded data removed]",
      "text/plain": [
       "<Figure size 1080x1080 with 3 Axes>"
      ]
     },
     "metadata": {
      "needs_background": "light"
     },
     "output_type": "display_data"
    }
   ],
   "source": [
    "'''left view'''\n",
    "leg = 4\n",
    "t = 330\n",
    "fig, [ax1, ax2, ax3]= plt.subplots(1, 3, figsize=(15,15))\n",
    "views_eachleg(larg_leg,t,leg,1,0,ax1)\n",
    "ax1.set_title('left view')\n",
    "\n",
    "'''top view'''\n",
    "leg = 4\n",
    "views_eachleg(larg_leg,t,leg,0,2,ax2)\n",
    "ax2.set_title('top view')\n",
    "\n",
    "'''front view'''\n",
    "leg = 4\n",
    "views_eachleg(larg_leg,t,leg,1,2,ax3)\n",
    "ax3.set_title('front view')\n",
    "print('right middle leg')"
   ]
  },
  {
   "cell_type": "code",
   "execution_count": 47,
   "metadata": {},
   "outputs": [
    {
     "name": "stdout",
     "output_type": "stream",
     "text": [
      "right hind leg\n"
     ]
    },
    {
     "data": {
      "image/png": "[encoded data removed]",
      "text/plain": [
       "<Figure size 1080x1080 with 3 Axes>"
      ]
     },
     "metadata": {
      "needs_background": "light"
     },
     "output_type": "display_data"
    }
   ],
   "source": [
    "'''left view'''\n",
    "leg = 5\n",
    "t = 0\n",
    "fig, [ax1, ax2, ax3]= plt.subplots(1, 3, figsize=(15,15))\n",
    "views_eachleg(larg_leg,t,leg,1,0,ax1)\n",
    "ax1.set_title('left view')\n",
    "\n",
    "'''top view'''\n",
    "leg = 5\n",
    "views_eachleg(larg_leg,t,leg,0,2,ax2)\n",
    "ax2.set_title('top view')\n",
    "\n",
    "'''front view'''\n",
    "leg = 5\n",
    "views_eachleg(larg_leg,t,leg,1,2,ax3)\n",
    "ax3.set_title('front view')\n",
    "print('right hind leg')"
   ]
  },
  {
   "cell_type": "code",
   "execution_count": 70,
   "metadata": {},
   "outputs": [
    {
     "name": "stdout",
     "output_type": "stream",
     "text": [
      "left front\n",
      "The condition number is :12.7\n",
      "The singular values are: [0.97835227 0.70674228 0.07728894]\n",
      "\n",
      "left middle\n",
      "The condition number is :108.8\n",
      "The singular values are: [1.20013383 0.98820656 0.01102799]\n",
      "\n",
      "left hind\n",
      "The condition number is :39.9\n",
      "The singular values are: [1.35346598 0.8921857  0.0339525 ]\n",
      "\n",
      "right front\n",
      "The condition number is :5.8\n",
      "The singular values are: [0.9512098  0.79050135 0.16340753]\n",
      "\n",
      "right middle\n",
      "The condition number is :8.3\n",
      "The singular values are: [1.20752734 0.92893202 0.14615791]\n",
      "\n",
      "right hind\n",
      "The condition number is :16.4\n",
      "The singular values are: [1.23222083 0.93586612 0.07502368]\n",
      "\n"
     ]
    }
   ],
   "source": [
    "for t in range(400,401):\n",
    "    for i in range(6):\n",
    "        vec_set = vec_r[t,i*4:(i+1)*4]\n",
    "        print(legname[i])\n",
    "        print('The condition number is :%.1f'%np.linalg.cond(vec_set))\n",
    "        print('The singular values are: %s\\n'%np.linalg.svd(vec_set)[1])"
   ]
  },
  {
   "cell_type": "code",
   "execution_count": 65,
   "metadata": {},
   "outputs": [
    {
     "name": "stdout",
     "output_type": "stream",
     "text": [
      "left front\n",
      "The condition number is :1.93e+16\n",
      "The singular values are: [1.57638973e+00 1.23085150e+00 8.14919601e-17]\n",
      "\n",
      "left middle\n",
      "The condition number is :1.37e+17\n",
      "The singular values are: [1.63092284e+00 1.15762286e+00 1.18975921e-17]\n",
      "\n",
      "left hind\n",
      "The condition number is :5.47e+15\n",
      "The singular values are: [1.68410690e+00 1.07878819e+00 3.07997242e-16]\n",
      "\n",
      "right front\n",
      "The condition number is :1.67e+16\n",
      "The singular values are: [1.71129020e+00 1.03512601e+00 1.02269957e-16]\n",
      "\n",
      "right middle\n",
      "The condition number is :4.15e+16\n",
      "The singular values are: [1.65793919e+00 1.11858734e+00 3.99460571e-17]\n",
      "\n",
      "right hind\n",
      "The condition number is :1.89e+16\n",
      "The singular values are: [1.71157886e+00 1.03464865e+00 9.06650538e-17]\n",
      "\n"
     ]
    }
   ],
   "source": [
    "for t in range(0,1):\n",
    "    for i in range(6):\n",
    "        vec_set = vectors[t,i*4:(i+1)*4]\n",
    "        print(legname[i])\n",
    "        print('The condition number is :%.2e'%np.linalg.cond(vec_set))\n",
    "        print('The singular values are: %s\\n'%np.linalg.svd(vec_set)[1])"
   ]
  },
  {
   "cell_type": "code",
   "execution_count": null,
   "metadata": {},
   "outputs": [],
   "source": [
    "#np.save('recon_points.npy',points)"
   ]
  }
 ],
 "metadata": {
  "kernelspec": {
   "display_name": "Python 3",
   "language": "python",
   "name": "python3"
  },
  "language_info": {
   "codemirror_mode": {
    "name": "ipython",
    "version": 3
   },
   "file_extension": ".py",
   "mimetype": "text/x-python",
   "name": "python",
   "nbconvert_exporter": "python",
   "pygments_lexer": "ipython3",
   "version": "3.7.1"
  }
 },
 "nbformat": 4,
 "nbformat_minor": 2
}
