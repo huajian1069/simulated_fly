{
 "cells": [
  {
   "cell_type": "code",
   "execution_count": 1,
   "metadata": {},
   "outputs": [
    {
     "name": "stdout",
     "output_type": "stream",
     "text": [
      "The dimension is \n",
      "(899, 38, 3)\n"
     ]
    }
   ],
   "source": [
    "%matplotlib inline\n",
    "import numpy as np\n",
    "import matplotlib.pyplot as plt\n",
    "import cv2\n",
    "%load_ext autoreload\n",
    "%autoreload 2\n",
    "\n",
    "a = np.load('pose_result__data_paper_180918_MDN_PR_Fly1_001_SG1_behData_images.pkl')\n",
    "data = a['points3d'].copy()\n",
    "print('The dimension is ')\n",
    "print(data.shape)\n",
    "t = np.linspace(0,9,900)"
   ]
  },
  {
   "cell_type": "code",
   "execution_count": 2,
   "metadata": {},
   "outputs": [
    {
     "name": "stdout",
     "output_type": "stream",
     "text": [
      "39.719173687676225\n",
      "37.766569550937106\n",
      "40.96779343467542\n",
      "38.55254876567842\n",
      "[0.62771434 0.07004704 0.77528583]\n",
      "[0.62771434 0.         0.77528583]\n",
      "x-axis angel:  38.99554730142681\n",
      "left-coordinate x : [0.62771434 0.         0.77528583]\n",
      "left-coordinate y : [ 0 -1  0]\n",
      "left-coordinate z : [ 0.77528583  0.         -0.62771434]\n"
     ]
    }
   ],
   "source": [
    "def rotaMatr(v1,v2):\n",
    "    u = np.cross(v1,v2)\n",
    "    u = u/np.linalg.norm(u)\n",
    "    th = intersection_angle(v1,v2)\n",
    "    r = np.zeros((3,3))\n",
    "    c = np.cos(th)\n",
    "    s = np.sin(th)\n",
    "    ux = u[0]\n",
    "    uy = u[1]\n",
    "    uz = u[2]\n",
    "    r[0,0] = c + ux**2*(1-c)\n",
    "    r[0,1] = ux*uy*(1-c) - uz*s\n",
    "    r[0,2] = ux*uz*(1-c) + uy*s\n",
    "    \n",
    "    r[1,0] = ux*uy*(1-c) + uz*s\n",
    "    r[1,1] = c + uy**2*(1-c)\n",
    "    r[1,2] = uy*uz*(1-c) - ux*s\n",
    "    \n",
    "    r[2,0] = uz*ux*(1-c) - uy*s\n",
    "    r[2,1] = uz*uy*(1-c) + ux*s\n",
    "    r[2,2] = c + uz**2*(1-c)\n",
    "    return r\n",
    "def leg_inner(data, t, leg, pos):   \n",
    "    '''pos = 1,2,3  t = 0 , leg = 0, 5, 10,       19, 24, 29'''\n",
    "    ex_point = data[t,leg+pos,:]\n",
    "    pre_point = data[t,leg+pos-1,:]\n",
    "    next_point = data[t,leg+pos+1,:]\n",
    "    pre_v = ex_point - pre_point\n",
    "    nxt_v = next_point - ex_point\n",
    "    return intersection_angle(pre_v, nxt_v)\n",
    "def intersection_angle(a,b):\n",
    "    return np.arccos(a@b/np.linalg.norm(a)/np.linalg.norm(b))\n",
    "def ag2(angle):\n",
    "    return angle/np.pi*180\n",
    "def set_coord():\n",
    "    v_ref = np.array([0,0,1])\n",
    "    v1 = data[0,0,:] - data[0,19,:]\n",
    "    v2 = data[0,5,:] - data[0,24,:]\n",
    "    v3 = data[0,10,:] - data[0,29,:]\n",
    "    v4 = data[0,15,:] - data[0,34,:]\n",
    "    print(ag2(intersection_angle(v_ref,v1)))\n",
    "    print(ag2(intersection_angle(v_ref,v2)))\n",
    "    print(ag2(intersection_angle(v_ref,v3)))\n",
    "    print(ag2(intersection_angle(v_ref,v4)))\n",
    "    xx = v1+v2+v3+v4\n",
    "    x_ref = xx/np.linalg.norm(xx)\n",
    "    print(x_ref)\n",
    "    x_ref[1] = 0\n",
    "    print(x_ref)\n",
    "    print('x-axis angel: ',ag2(intersection_angle(v_ref,x_ref)))\n",
    "    return x_ref\n",
    "coord_x = set_coord()\n",
    "#an = 38/180*np.pi\n",
    "#x_ref = np.array([np.sin(an),0,np.cos(an)])\n",
    "#print(x_ref)\n",
    "\n",
    "#coord_x = x_ref\n",
    "coord_y = np.array([0,-1,0])\n",
    "coord_z = np.cross(coord_x,coord_y)\n",
    "print('left-coordinate x :', coord_x)\n",
    "print('left-coordinate y :', coord_y)\n",
    "print('left-coordinate z :', coord_z)"
   ]
  },
  {
   "cell_type": "code",
   "execution_count": 3,
   "metadata": {},
   "outputs": [
    {
     "name": "stdout",
     "output_type": "stream",
     "text": [
      "angles of three 1-dof joint: \n",
      "left front\n",
      "[117.63232953482924, -80.821096359871, 25.553272540020448]\n",
      "left middle\n",
      "[122.18831338730779, -107.15928822681015, 36.98481160025102]\n",
      "left hind\n",
      "[106.0468270952644, -99.98323384477206, 25.910724214640414]\n",
      "right front\n",
      "[149.4852259735869, -127.57293061849138, 37.52917551926949]\n",
      "right middle\n",
      "[123.258058023241, -116.51690971376023, 41.38393744859637]\n",
      "right hind\n",
      "[125.4432181135452, -125.15896017476622, 39.35937201066465]\n"
     ]
    }
   ],
   "source": [
    "angle_data1 = np.zeros((899,18))\n",
    "angle_data3 = np.zeros((899,18))\n",
    "def leg_1dof(t):\n",
    "    i = 0\n",
    "    for leg in [0,5,10,19,24,29]:\n",
    "        #if(leg == 0 ): print('Left leg')\n",
    "        #elif(leg == 19 ): print('Right leg')\n",
    "        for pos in range(1,4):\n",
    "            if(pos == 2):\n",
    "                angle_data1[t,i+pos-1] = -leg_inner(data,t=t,leg=leg,pos=pos)\n",
    "                #print(ag2(angle_data1[0,i+pos-1]))\n",
    "            else:\n",
    "                angle_data1[t,i+pos-1] = leg_inner(data,t=t,leg=leg,pos=pos)\n",
    "                #print(ag2(angle_data1[0,i+pos-1]))\n",
    "        i+=3\n",
    "        #print('\\n')\n",
    "for i in range(899):        \n",
    "    leg_1dof(i)\n",
    "t = 0\n",
    "print('angles of three 1-dof joint: ')\n",
    "legname = ['left front', 'left middle', 'left hind', 'right front', 'right middle', 'right hind']\n",
    "for i in range(6):\n",
    "    print(legname[i])\n",
    "    print([ag2(angle_data1[t,i*3+j]) for j in range(3)])"
   ]
  },
  {
   "cell_type": "code",
   "execution_count": 8,
   "metadata": {},
   "outputs": [
    {
     "name": "stdout",
     "output_type": "stream",
     "text": [
      "angles of root 3-dof joint: \n",
      "left front\n",
      "[104.05387503380325, -63.04905775148335, 149.5353063568902]\n",
      "left middle\n",
      "[164.33947696603283, -82.76834568737672, 144.93936360292219]\n",
      "left hind\n",
      "[99.8174981421469, -76.86026152694096, 49.60149747563612]\n",
      "right front\n",
      "[-129.0794804818497, -50.555637147894124, 177.32200284530325]\n",
      "right middle\n",
      "[-158.10426581949253, -81.36573525047217, -143.08286323197302]\n",
      "right hind\n",
      "[-117.54054350667504, -75.58345524070519, -74.36654920393458]\n"
     ]
    }
   ],
   "source": [
    "def leg_3dof(t):\n",
    "    j = 0\n",
    "    for i in [0,5,10,19,24,29]:\n",
    "        if(i == 0 or i == 5 or i ==10):\n",
    "            lrcoord_z = coord_z;\n",
    "            lrcoord_x = coord_x;\n",
    "        else:\n",
    "            lrcoord_z = -coord_z;\n",
    "            lrcoord_x = -coord_x;\n",
    "        lrcoord_y = coord_y \n",
    "        x_r = data[t,i+1,:] - data[t,i+0,:]\n",
    "        xr_proj = x_r.copy()\n",
    "        xr_y = xr_proj[1]\n",
    "        xr_proj[1] = 0;\n",
    "        \n",
    "        theta_z = intersection_angle(lrcoord_z, xr_proj)\n",
    "        theta_x = intersection_angle(lrcoord_x, xr_proj)\n",
    "        if(theta_z < np.pi/2):\n",
    "            angle_1 = -theta_x\n",
    "        else:\n",
    "            angle_1 = theta_x\n",
    "        #print('angle1')\n",
    "        angle_data3[t,j] = angle_1\n",
    "        #print(ag2(angle_1))\n",
    "        angle_2 = np.pi/2 - intersection_angle(lrcoord_y,x_r)\n",
    "        #print('angle2')\n",
    "        angle_data3[t,j+1] = angle_2 \n",
    "        #print(ag2(angle_2))\n",
    "        y_slope = data[t,i+2,:] - data[t,i+1,:]\n",
    "        #  how to make sure y_slope direction, Yes, sure\n",
    "        z_r = np.cross(x_r, y_slope)\n",
    "        R1 = rotaMatr(lrcoord_x, xr_proj)\n",
    "        rel_coord_z = R1 @ lrcoord_z\n",
    "        R2 = rotaMatr(xr_proj, x_r)\n",
    "        rel_coord_y = R2 @ lrcoord_y\n",
    "        theta3_y = intersection_angle(rel_coord_y, z_r)\n",
    "        theta3_z = intersection_angle(rel_coord_z, z_r)\n",
    "        #print(\"theta3_y = \",ag2(theta3_y),\"theta3_z = \",ag2(theta3_z))\n",
    "        #print(\"sum = \",ag2(theta3_y+theta3_z), 'dif = ',ag2(theta3_y-theta3_z))\n",
    "        if(theta3_y < np.pi/2):\n",
    "            angle_3 = -theta3_z #+ dif\n",
    "        else:\n",
    "            angle_3 = theta3_z #+ dif\n",
    "        #print('angle3')\n",
    "        angle_data3[t,j+2] = angle_3\n",
    "        #print(ag2(angle_3))\n",
    "        #print('\\n')\n",
    "        j += 3\n",
    "    return angle_1,angle_2,angle_3\n",
    "\n",
    "for i in range(899):\n",
    "    leg_3dof(i)\n",
    "\n",
    "print('angles of root 3-dof joint: ')\n",
    "legname = ['left front', 'left middle', 'left hind', 'right front', 'right middle', 'right hind']\n",
    "for i in range(6):\n",
    "    print(legname[i])\n",
    "    print([ag2(angle_data3[t,i*3+j]) for j in range(3)])\n",
    "np.savetxt('angle_data1.txt',angle_data1,fmt='%.4f')\n",
    "#np.savetxt('angle_data3.txt',angle_data3,fmt='%.4f')\n",
    "#np.save('angle_3d.npy',angle_data3)\n",
    "#np.save('angle_1d.npy',angle_data1)"
   ]
  },
  {
   "cell_type": "code",
   "execution_count": 7,
   "metadata": {},
   "outputs": [
    {
     "data": {
      "text/plain": [
       "(899, 18)"
      ]
     },
     "execution_count": 7,
     "metadata": {},
     "output_type": "execute_result"
    }
   ],
   "source": [
    "angle_data1.shape"
   ]
  },
  {
   "cell_type": "code",
   "execution_count": null,
   "metadata": {},
   "outputs": [],
   "source": []
  }
 ],
 "metadata": {
  "kernelspec": {
   "display_name": "Python 3",
   "language": "python",
   "name": "python3"
  },
  "language_info": {
   "codemirror_mode": {
    "name": "ipython",
    "version": 3
   },
   "file_extension": ".py",
   "mimetype": "text/x-python",
   "name": "python",
   "nbconvert_exporter": "python",
   "pygments_lexer": "ipython3",
   "version": "3.7.1"
  }
 },
 "nbformat": 4,
 "nbformat_minor": 2
}
