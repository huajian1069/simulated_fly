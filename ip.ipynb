{
 "cells": [
  {
   "cell_type": "code",
   "execution_count": 1,
   "metadata": {},
   "outputs": [
    {
     "name": "stdout",
     "output_type": "stream",
     "text": [
      "The shape is  (1380, 1977, 1849)\n",
      "The datatype is uint8\n"
     ]
    }
   ],
   "source": [
    "import cv2\n",
    "import numpy as np\n",
    "import skimage.io as io\n",
    "from skimage.io import imread\n",
    "from skimage.io import imread_collection\n",
    "from skimage.io import imshow_collection\n",
    "import matplotlib.pyplot as plt\n",
    "from mpl_toolkits.mplot3d.art3d import Poly3DCollection\n",
    "from skimage import measure\n",
    "from skimage.util import img_as_ubyte\n",
    "from skimage import feature\n",
    "from stl import mesh\n",
    "\n",
    "#__USER'S INITIALIZATIONS______________________________________________#\n",
    "\n",
    "default_name_input = \"flyStanding.tif\"\n",
    "default_name_output = \"my_test.stl\"\n",
    "\n",
    "#__NON-USER'S INITIALIZATIONS__________________________________________#\n",
    "\n",
    "name_of_input = default_name_input\n",
    "name_of_output = default_name_output\n",
    "\n",
    "images = img_as_ubyte(io.imread(name_of_input))\n",
    "\n",
    "print('The shape is ',images.shape)\n",
    "print('The datatype is',images.dtype)"
   ]
  },
  {
   "cell_type": "code",
   "execution_count": 68,
   "metadata": {},
   "outputs": [],
   "source": [
    "#__FUNCTION(S)_________________________________________________________#\n",
    "\n",
    "def fill_holes (to_fill_img, size_ellipse) :\n",
    "\n",
    "       # Dilation of the image\n",
    "\t   kern = cv2.getStructuringElement(cv2.MORPH_ELLIPSE, (size_ellipse,size_ellipse))\n",
    "\t   dil_img = cv2.dilate(to_fill_img, kern, iterations = 1)\n",
    "\t   \n",
    "\t   # Copy because dil_img needed at the end\n",
    "\t   floodfill_img = dil_img.copy();\n",
    "\t   \n",
    "\t   # Mask used to flood filling, size 2 pixels bigger than the image.\n",
    "\t   h, w = to_fill_img.shape[:2]\n",
    "\t   mask = np.zeros((h+2, w+2), np.uint8)\n",
    "\t   \n",
    "\t   # Floodfill from point (w-2,0)\n",
    "\t   cv2.floodFill(floodfill_img, mask, (w-2,0), (255,255,255));\n",
    "\t   \n",
    "\t   # Invert floodfilled image\n",
    "\t   inv_floodfill_img = cv2.bitwise_not(floodfill_img)\n",
    "\t   \n",
    "\t   # Combine the two images to get the foreground.\n",
    "\t   res_img = cv2.bitwise_or(dil_img, inv_floodfill_img)\n",
    "\t   \n",
    "\t   \n",
    "\t   return res_img"
   ]
  },
  {
   "cell_type": "code",
   "execution_count": 69,
   "metadata": {},
   "outputs": [
    {
     "name": "stdout",
     "output_type": "stream",
     "text": [
      "0\n",
      "1\n",
      "2\n",
      "3\n",
      "4\n",
      "5\n",
      "6\n",
      "7\n",
      "8\n",
      "9\n",
      "10\n",
      "11\n",
      "12\n",
      "13\n",
      "14\n",
      "15\n",
      "16\n",
      "17\n",
      "18\n",
      "19\n",
      "20\n",
      "21\n",
      "22\n",
      "23\n",
      "24\n",
      "25\n",
      "26\n",
      "27\n",
      "28\n",
      "29\n",
      "30\n",
      "31\n",
      "32\n",
      "33\n",
      "34\n",
      "35\n",
      "36\n",
      "37\n",
      "38\n",
      "39\n",
      "40\n",
      "41\n",
      "42\n",
      "43\n",
      "44\n",
      "45\n",
      "46\n",
      "47\n",
      "48\n",
      "49\n",
      "50\n",
      "51\n",
      "52\n",
      "53\n",
      "54\n",
      "55\n",
      "56\n",
      "57\n",
      "58\n",
      "59\n",
      "60\n",
      "61\n",
      "62\n",
      "63\n",
      "64\n",
      "65\n",
      "66\n",
      "67\n",
      "68\n",
      "69\n",
      "70\n",
      "71\n",
      "72\n",
      "73\n",
      "74\n",
      "75\n",
      "76\n",
      "77\n",
      "78\n",
      "79\n",
      "80\n",
      "81\n",
      "82\n",
      "83\n",
      "84\n",
      "85\n",
      "86\n",
      "87\n",
      "88\n",
      "89\n",
      "90\n",
      "91\n",
      "92\n",
      "93\n",
      "94\n",
      "95\n",
      "96\n",
      "97\n",
      "98\n",
      "99\n",
      "100\n",
      "101\n",
      "102\n",
      "103\n",
      "104\n",
      "105\n",
      "106\n",
      "107\n",
      "108\n",
      "109\n",
      "110\n",
      "111\n",
      "112\n",
      "113\n",
      "114\n",
      "115\n",
      "116\n",
      "117\n",
      "118\n",
      "119\n",
      "120\n",
      "121\n",
      "122\n",
      "123\n",
      "124\n",
      "125\n",
      "126\n",
      "127\n",
      "128\n",
      "129\n",
      "130\n",
      "131\n",
      "132\n",
      "133\n",
      "134\n",
      "135\n",
      "136\n",
      "137\n",
      "138\n",
      "139\n",
      "140\n",
      "141\n",
      "142\n",
      "143\n",
      "144\n",
      "145\n",
      "146\n",
      "147\n",
      "148\n",
      "149\n",
      "150\n",
      "151\n",
      "152\n",
      "153\n",
      "154\n",
      "155\n",
      "156\n",
      "157\n",
      "158\n",
      "159\n",
      "160\n",
      "161\n",
      "162\n",
      "163\n",
      "164\n",
      "165\n",
      "166\n",
      "167\n",
      "168\n",
      "169\n",
      "170\n",
      "171\n",
      "172\n",
      "173\n",
      "174\n",
      "175\n",
      "176\n",
      "177\n",
      "178\n",
      "179\n",
      "180\n",
      "181\n",
      "182\n",
      "183\n",
      "184\n",
      "185\n",
      "186\n",
      "187\n",
      "188\n",
      "189\n",
      "190\n",
      "191\n",
      "192\n",
      "193\n",
      "194\n",
      "195\n",
      "196\n",
      "197\n",
      "198\n",
      "199\n",
      "200\n",
      "201\n",
      "202\n",
      "203\n",
      "204\n",
      "205\n",
      "206\n",
      "207\n",
      "208\n",
      "209\n",
      "210\n",
      "211\n",
      "212\n",
      "213\n",
      "214\n",
      "215\n",
      "216\n",
      "217\n",
      "218\n",
      "219\n",
      "220\n",
      "221\n",
      "222\n",
      "223\n",
      "224\n",
      "225\n",
      "226\n",
      "227\n",
      "228\n",
      "229\n",
      "230\n",
      "231\n",
      "232\n",
      "233\n",
      "234\n",
      "235\n",
      "236\n",
      "237\n",
      "238\n",
      "239\n",
      "240\n",
      "241\n",
      "242\n",
      "243\n",
      "244\n",
      "245\n",
      "246\n",
      "247\n",
      "248\n",
      "249\n",
      "250\n",
      "251\n",
      "252\n",
      "253\n",
      "254\n",
      "255\n",
      "256\n",
      "257\n",
      "258\n",
      "259\n",
      "260\n",
      "261\n",
      "262\n",
      "263\n",
      "264\n",
      "265\n",
      "266\n",
      "267\n",
      "268\n",
      "269\n",
      "270\n",
      "271\n",
      "272\n",
      "273\n",
      "274\n",
      "275\n",
      "276\n",
      "277\n",
      "278\n",
      "279\n",
      "280\n",
      "281\n",
      "282\n",
      "283\n",
      "284\n",
      "285\n",
      "286\n",
      "287\n",
      "288\n",
      "289\n",
      "290\n",
      "291\n",
      "292\n",
      "293\n",
      "294\n",
      "295\n",
      "296\n",
      "297\n",
      "298\n",
      "299\n",
      "300\n",
      "301\n",
      "302\n",
      "303\n",
      "304\n",
      "305\n",
      "306\n",
      "307\n",
      "308\n",
      "309\n",
      "310\n",
      "311\n",
      "312\n",
      "313\n",
      "314\n",
      "315\n",
      "316\n",
      "317\n",
      "318\n",
      "319\n",
      "320\n",
      "321\n",
      "322\n",
      "323\n",
      "324\n",
      "325\n",
      "326\n",
      "327\n",
      "328\n",
      "329\n",
      "330\n",
      "331\n",
      "332\n",
      "333\n",
      "334\n",
      "335\n",
      "336\n",
      "337\n",
      "338\n",
      "339\n",
      "340\n",
      "341\n",
      "342\n",
      "343\n",
      "344\n",
      "345\n",
      "346\n",
      "347\n",
      "348\n",
      "349\n",
      "350\n",
      "351\n",
      "352\n",
      "353\n",
      "354\n",
      "355\n",
      "356\n",
      "357\n",
      "358\n",
      "359\n",
      "360\n",
      "361\n",
      "362\n",
      "363\n",
      "364\n",
      "365\n",
      "366\n",
      "367\n",
      "368\n",
      "369\n",
      "370\n",
      "371\n",
      "372\n",
      "373\n",
      "374\n",
      "375\n",
      "376\n",
      "377\n",
      "378\n",
      "379\n",
      "380\n",
      "381\n",
      "382\n",
      "383\n",
      "384\n",
      "385\n",
      "386\n",
      "387\n",
      "388\n",
      "389\n",
      "390\n",
      "391\n",
      "392\n",
      "393\n",
      "394\n",
      "395\n",
      "396\n",
      "397\n",
      "398\n",
      "399\n",
      "400\n",
      "401\n",
      "402\n",
      "403\n",
      "404\n",
      "405\n",
      "406\n",
      "407\n",
      "408\n",
      "409\n",
      "410\n",
      "411\n",
      "412\n",
      "413\n",
      "414\n",
      "415\n",
      "416\n",
      "417\n",
      "418\n",
      "419\n",
      "420\n",
      "421\n",
      "422\n",
      "423\n",
      "424\n",
      "425\n",
      "426\n",
      "427\n",
      "428\n",
      "429\n",
      "430\n",
      "431\n",
      "432\n",
      "433\n",
      "434\n",
      "435\n",
      "436\n",
      "437\n",
      "438\n",
      "439\n",
      "440\n",
      "441\n",
      "442\n",
      "443\n",
      "444\n",
      "445\n",
      "446\n",
      "447\n",
      "448\n",
      "449\n",
      "450\n",
      "451\n",
      "452\n",
      "453\n",
      "454\n",
      "455\n",
      "456\n",
      "457\n",
      "458\n",
      "459\n",
      "460\n",
      "461\n",
      "462\n",
      "463\n",
      "464\n",
      "465\n",
      "466\n",
      "467\n",
      "468\n",
      "469\n",
      "470\n",
      "471\n",
      "472\n",
      "473\n",
      "474\n",
      "475\n",
      "476\n",
      "477\n",
      "478\n",
      "479\n",
      "480\n",
      "481\n",
      "482\n",
      "483\n",
      "484\n",
      "485\n",
      "486\n",
      "487\n",
      "488\n",
      "489\n",
      "490\n",
      "491\n",
      "492\n",
      "493\n",
      "494\n",
      "495\n",
      "496\n",
      "497\n",
      "498\n",
      "499\n"
     ]
    }
   ],
   "source": [
    "#__PROCESSING OF THE IMAGES____________________________________________#\n",
    "numImg = 0\n",
    "a = np.zeros(images.shape, dtype=np.uint8)\n",
    "for img in images:\n",
    "    print(numImg)\n",
    "\t   \n",
    "    # Filter the image (Gaussian way)\n",
    "    filter_img = cv2.GaussianBlur(img, (5,5), 0.3)\n",
    "    fil_avg = np.mean(filter_img)\n",
    "    fil_std = np.std(filter_img)\n",
    "\t       \n",
    "    # Threshold the image\n",
    "    threshold = np.min([fil_avg+fil_std, 100])\n",
    "    (T, thresh_img) = cv2.threshold(filter_img, threshold,255,cv2.THRESH_BINARY)\n",
    "\t       \n",
    "    # Filling holes of the image \n",
    "    #res_img = thresh_img\n",
    "    res_img = fill_holes(thresh_img, 2)\n",
    "    #cv2.imshow('test',res_img)\n",
    "    #io.imshow(res_img)\n",
    "    #cv2.waitKey(0)\t    \n",
    "   \n",
    "    # Storage in the memory\n",
    "    a[numImg] = res_img.astype(np.uint8)\n",
    "\t   \n",
    "\t   \n",
    "    numImg += 1"
   ]
  },
  {
   "cell_type": "code",
   "execution_count": 7,
   "metadata": {},
   "outputs": [],
   "source": [
    "import tifffile\n",
    "\n",
    "def sepe(out, name):\n",
    "    with tifffile.TiffWriter(name) as tiff:\n",
    "        for img in out:\n",
    "            tiff.save(img)\n",
    "    print(\"I am done\")"
   ]
  },
  {
   "cell_type": "markdown",
   "metadata": {},
   "source": [
    "# right front"
   ]
  },
  {
   "cell_type": "code",
   "execution_count": 3,
   "metadata": {},
   "outputs": [
    {
     "name": "stdout",
     "output_type": "stream",
     "text": [
      "The frame of ending point is  352.87199999999996\n",
      "The frame of begining point is  -0.6820000000000164\n"
     ]
    }
   ],
   "source": [
    "ref = 9.37523\n",
    "obj = 5.50395\n",
    "print(\"The frame of ending point is \",740 - (ref - obj) * 100)\n",
    "\n",
    "obj = 1.96841\n",
    "print(\"The frame of begining point is \",740 - (ref - obj) * 100)\n",
    "\n",
    "rt_fr = images[0:360, 120:430, 780:930]\n",
    "name = 'rt_fr.tif'\n",
    "#sepe(rt_fr, name)"
   ]
  },
  {
   "cell_type": "markdown",
   "metadata": {},
   "source": [
    "# left front"
   ]
  },
  {
   "cell_type": "code",
   "execution_count": 85,
   "metadata": {},
   "outputs": [
    {
     "name": "stdout",
     "output_type": "stream",
     "text": [
      "The frame of begining point is  508.71599999999995\n",
      "The frame of begining point is  278.574\n"
     ]
    }
   ],
   "source": [
    "obj = 7.06239\n",
    "print(\"The frame of ending point is \",740 - (ref - obj) * 100)\n",
    "obj = 4.76097\n",
    "print(\"The frame of begining point is \",740 - (ref - obj) * 100)\n",
    "\n",
    "lf_fr = images[250:510, 700:900, 250:600]\n",
    "name = 'left_f.tif'\n",
    "sepe(rt_fr, name)"
   ]
  },
  {
   "cell_type": "markdown",
   "metadata": {},
   "source": [
    "# left middle"
   ]
  },
  {
   "cell_type": "code",
   "execution_count": 8,
   "metadata": {},
   "outputs": [
    {
     "name": "stdout",
     "output_type": "stream",
     "text": [
      "The frame of ending point is  535.499\n",
      "The frame of begining point is  252.483\n",
      "I am done\n"
     ]
    }
   ],
   "source": [
    "obj = 7.33022\n",
    "print(\"The frame of ending point is \",740 - (ref - obj) * 100)\n",
    "obj = 4.50006\n",
    "print(\"The frame of begining point is \",740 - (ref - obj) * 100)\n",
    "\n",
    "segment = images[240:560, 1300:1900, 400:750]\n",
    "name = 'left_mid.tif'  \n",
    "sepe(segment, name)"
   ]
  },
  {
   "cell_type": "markdown",
   "metadata": {},
   "source": [
    "# left hind"
   ]
  },
  {
   "cell_type": "code",
   "execution_count": 10,
   "metadata": {
    "scrolled": true
   },
   "outputs": [
    {
     "name": "stdout",
     "output_type": "stream",
     "text": [
      "The frame of ending point is  550.88\n",
      "The frame of begining point is  320.22599999999994\n",
      "I am done\n"
     ]
    }
   ],
   "source": [
    "obj = 7.48403\n",
    "print(\"The frame of ending point is \",740 - (ref - obj) * 100)\n",
    "obj = 5.17749\n",
    "print(\"The frame of begining point is \",740 - (ref - obj) * 100)\n",
    "\n",
    "segment = images[320:560, 1350:1900, 850:1200]\n",
    "name = 'left_hind.tif'  \n",
    "sepe(segment, name)"
   ]
  },
  {
   "cell_type": "markdown",
   "metadata": {},
   "source": [
    "# right hind"
   ]
  },
  {
   "cell_type": "code",
   "execution_count": 13,
   "metadata": {},
   "outputs": [
    {
     "name": "stdout",
     "output_type": "stream",
     "text": [
      "The frame of ending point is  462.27299999999997\n",
      "The frame of begining point is  320.22599999999994\n",
      "I am done\n"
     ]
    }
   ],
   "source": [
    "obj = 6.59796\n",
    "print(\"The frame of ending point is \",740 - (ref - obj) * 100)\n",
    "obj = 5.17749\n",
    "print(\"The frame of begining point is \",740 - (ref - obj) * 100)\n",
    "\n",
    "segment = images[120:460, 1050:1300, 1400:1800]\n",
    "name = 'right_hind.tif'  \n",
    "sepe(segment, name)"
   ]
  },
  {
   "cell_type": "markdown",
   "metadata": {},
   "source": [
    "# right middle"
   ]
  },
  {
   "cell_type": "code",
   "execution_count": 17,
   "metadata": {},
   "outputs": [
    {
     "name": "stdout",
     "output_type": "stream",
     "text": [
      "The frame of ending point is  350.774\n",
      "The frame of begining point is  320.22599999999994\n",
      "I am done\n"
     ]
    }
   ],
   "source": [
    "obj = 5.48297\n",
    "print(\"The frame of ending point is \",740 - (ref - obj) * 100)\n",
    "obj = 5.17749\n",
    "print(\"The frame of begining point is \",740 - (ref - obj) * 100)\n",
    "\n",
    "segment = images[20:350, 450:700, 1300:1650]\n",
    "name = 'right_middle.tif'  \n",
    "sepe(segment, name)"
   ]
  },
  {
   "cell_type": "code",
   "execution_count": 5,
   "metadata": {},
   "outputs": [
    {
     "data": {
      "text/plain": [
       "(320, 600, 350)"
      ]
     },
     "execution_count": 5,
     "metadata": {},
     "output_type": "execute_result"
    }
   ],
   "source": [
    "segment.shape"
   ]
  },
  {
   "cell_type": "code",
   "execution_count": 92,
   "metadata": {},
   "outputs": [
    {
     "data": {
      "text/plain": [
       "(500, 1977, 1849)"
      ]
     },
     "execution_count": 92,
     "metadata": {},
     "output_type": "execute_result"
    }
   ],
   "source": [
    "images.shape"
   ]
  },
  {
   "cell_type": "code",
   "execution_count": 135,
   "metadata": {},
   "outputs": [
    {
     "data": {
      "text/plain": [
       "<matplotlib.image.AxesImage at 0x17cd28f69b0>"
      ]
     },
     "execution_count": 135,
     "metadata": {},
     "output_type": "execute_result"
    },
    {
     "data": {
      "image/png": "[encoded data removed]",
      "text/plain": [
       "<Figure size 432x288 with 1 Axes>"
      ]
     },
     "metadata": {
      "needs_background": "light"
     },
     "output_type": "display_data"
    }
   ],
   "source": [
    "io.imshow(a[:,:,1000])"
   ]
  },
  {
   "cell_type": "code",
   "execution_count": 41,
   "metadata": {},
   "outputs": [
    {
     "data": {
      "text/plain": [
       "(1380, 1977, 1849)"
      ]
     },
     "execution_count": 41,
     "metadata": {},
     "output_type": "execute_result"
    }
   ],
   "source": [
    "b = io.imread('flyBinary.tif')\n",
    "b.shape"
   ]
  },
  {
   "cell_type": "code",
   "execution_count": 136,
   "metadata": {},
   "outputs": [
    {
     "data": {
      "text/plain": [
       "(500, 1977, 1849)"
      ]
     },
     "execution_count": 136,
     "metadata": {},
     "output_type": "execute_result"
    },
    {
     "data": {
      "image/png": "[encoded data removed]",
      "text/plain": [
       "<Figure size 432x288 with 1 Axes>"
      ]
     },
     "metadata": {
      "needs_background": "light"
     },
     "output_type": "display_data"
    }
   ],
   "source": [
    "io.imshow(b[:,:,1000])\n",
    "images[:,:,:].shape"
   ]
  },
  {
   "cell_type": "code",
   "execution_count": 8,
   "metadata": {},
   "outputs": [
    {
     "name": "stdout",
     "output_type": "stream",
     "text": [
      "shape of verts is  (14480451, 3)\n",
      "shape of faces is  (28910168, 3)\n",
      "shape of normals is  (14480451, 3)\n",
      "shape of values is  (14480451,)\n"
     ]
    }
   ],
   "source": [
    "#__CREATION AND SAVING OF THE MESH_____________________________________#\n",
    "\n",
    "# Marching cubes to obtain the surface mesh\n",
    "verts, faces, normals, values = measure.marching_cubes_lewiner(a)\n",
    "\n",
    "print('shape of verts is ', verts.shape)\n",
    "print('shape of faces is ', faces.shape)\n",
    "print('shape of normals is ', normals.shape)\n",
    "print('shape of values is ', values.shape)\n",
    "\n",
    "# Creation of the mesh\n",
    "real_mesh = mesh.Mesh(np.zeros(faces.shape[0], dtype=mesh.Mesh.dtype))\n",
    "for i, f in enumerate(faces):\n",
    "    for j in range(3):\n",
    "\t    real_mesh.vectors[i][j] = verts[f[j],:]/100\n",
    "\t    \t    \n",
    "# Write the mesh to file\n",
    "real_mesh.save(name_of_output)"
   ]
  },
  {
   "cell_type": "code",
   "execution_count": null,
   "metadata": {},
   "outputs": [],
   "source": []
  }
 ],
 "metadata": {
  "kernelspec": {
   "display_name": "Python 3",
   "language": "python",
   "name": "python3"
  },
  "language_info": {
   "codemirror_mode": {
    "name": "ipython",
    "version": 3
   },
   "file_extension": ".py",
   "mimetype": "text/x-python",
   "name": "python",
   "nbconvert_exporter": "python",
   "pygments_lexer": "ipython3",
   "version": "3.7.1"
  }
 },
 "nbformat": 4,
 "nbformat_minor": 2
}
