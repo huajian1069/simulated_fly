{
 "cells": [
  {
   "cell_type": "code",
   "execution_count": 1,
   "metadata": {},
   "outputs": [
    {
     "name": "stdout",
     "output_type": "stream",
     "text": [
      "The dimension is \n",
      "(899, 38, 3)\n"
     ]
    }
   ],
   "source": [
    "%matplotlib inline\n",
    "import numpy as np\n",
    "import matplotlib.pyplot as plt\n",
    "import cv2\n",
    "%load_ext autoreload\n",
    "%autoreload 2\n",
    "\n",
    "a = np.load('pose_result__data_paper_180918_MDN_PR_Fly1_001_SG1_behData_images.pkl')\n",
    "data = a['points3d'].copy()\n",
    "print('The dimension is ')\n",
    "print(data.shape)\n",
    "t = np.linspace(0,9,900)"
   ]
  },
  {
   "cell_type": "code",
   "execution_count": 2,
   "metadata": {},
   "outputs": [
    {
     "name": "stdout",
     "output_type": "stream",
     "text": [
      "x-axis angel:  38.99554730142681\n",
      "length of six legs of four parts are: \n",
      "left front\n",
      "[0.41403956899220884, 0.6834313211354136, 0.5965678647359476, 0.7008085946938518]\n",
      "left middle\n",
      "[0.31111482309465965, 0.8950070660764843, 0.826068999365789, 0.8899131593030335]\n",
      "left hind\n",
      "[0.3022583021135212, 0.9196839265108279, 0.9020544408440511, 0.8807835090340419]\n",
      "right front\n",
      "[0.4313949865614196, 0.7338953002532272, 0.5835228119934599, 0.6876515206709798]\n",
      "right middle\n",
      "[0.3120475759381852, 0.9702279278407753, 0.8055189412119721, 0.8998878948957555]\n",
      "right hind\n",
      "[0.30356705462083644, 0.9452870186086476, 0.826829770413402, 0.9966675196551373]\n"
     ]
    }
   ],
   "source": [
    "def leg_len(data, t, leg, pos):\n",
    "    '''pos = 0,1,2,3  t = 0 , leg = left:0, 5, 10,  right:19, 24, 29'''\n",
    "    ex_point = data[t,leg+pos,:]\n",
    "    next_point = data[t,leg+pos+1,:]\n",
    "    nxt_v = next_point - ex_point\n",
    "    return np.linalg.norm(nxt_v), nxt_v\n",
    "def intersection_angle(a,b):\n",
    "    return np.arccos(a@b/np.linalg.norm(a)/np.linalg.norm(b))\n",
    "def rotaMatr(v1,v2):\n",
    "    u = np.cross(v1,v2)\n",
    "    u = u/np.linalg.norm(u)\n",
    "    th = intersection_angle(v1,v2)\n",
    "    r = np.zeros((3,3))\n",
    "    c = np.cos(th)\n",
    "    s = np.sin(th)\n",
    "    ux = u[0]\n",
    "    uy = u[1]\n",
    "    uz = u[2]\n",
    "    r[0,0] = c + ux**2*(1-c)\n",
    "    r[0,1] = ux*uy*(1-c) - uz*s\n",
    "    r[0,2] = ux*uz*(1-c) + uy*s\n",
    "    \n",
    "    r[1,0] = ux*uy*(1-c) + uz*s\n",
    "    r[1,1] = c + uy**2*(1-c)\n",
    "    r[1,2] = uy*uz*(1-c) - ux*s\n",
    "    \n",
    "    r[2,0] = uz*ux*(1-c) - uy*s\n",
    "    r[2,1] = uz*uy*(1-c) + ux*s\n",
    "    r[2,2] = c + uz**2*(1-c)\n",
    "    return r\n",
    "def ag2(angle):\n",
    "    return angle/np.pi*180\n",
    "def set_coord():\n",
    "    v_ref = np.array([0,0,1])\n",
    "    v1 = data[0,0,:] - data[0,19,:]\n",
    "    v2 = data[0,5,:] - data[0,24,:]\n",
    "    v3 = data[0,10,:] - data[0,29,:]\n",
    "    v4 = data[0,15,:] - data[0,34,:]\n",
    "    xx = v1+v2+v3+v4\n",
    "    x_ref = xx/np.linalg.norm(xx)\n",
    "    x_ref[1] = 0\n",
    "    print('x-axis angel: ',ag2(intersection_angle(v_ref,x_ref)))\n",
    "    return x_ref\n",
    "\n",
    "coord_x = set_coord()\n",
    "R_std = rotaMatr(coord_x,np.array([0,0,1]))\n",
    "std_data = np.zeros(data.shape)\n",
    "for i in range(899):\n",
    "    std_data[i,:,:] = (R_std @ (data[i,:].T)).T\n",
    "tt = 899\n",
    "length = np.zeros((tt,24))\n",
    "vec_r = np.zeros((tt,24,3))\n",
    "for t in range(0,tt):\n",
    "    i = 0\n",
    "    for leg in [0,5,10,19,24,29]:\n",
    "        for pos in range(4):\n",
    "            length[t,i+pos],vec_r[t,i+pos] = leg_len(std_data,t,leg,pos)\n",
    "        i += 4\n",
    "\n",
    "t = 0\n",
    "print('length of six legs of four parts are: ')\n",
    "legname = ['left front', 'left middle', 'left hind', 'right front', 'right middle', 'right hind']\n",
    "for i in range(6):\n",
    "    print(legname[i])\n",
    "    print([length[t,i*4+j] for j in range(4)])"
   ]
  },
  {
   "cell_type": "code",
   "execution_count": 3,
   "metadata": {},
   "outputs": [
    {
     "name": "stdout",
     "output_type": "stream",
     "text": [
      "The vector of 6 x 4 leg parts is: \n",
      "\n",
      " left front\n",
      "[-0.1820372   0.36907277 -0.04556882]\n",
      "[ 0.51609911 -0.04601348  0.44564879]\n",
      "[0.05648198 0.57712258 0.14011615]\n",
      "[0.21724683 0.53631526 0.39535103]\n",
      "\n",
      " left middle\n",
      "[-0.01057169  0.30864    -0.03770972]\n",
      "[-0.23672611 -0.3949341   0.76747994]\n",
      "[-0.01310369  0.81545143  0.13136685]\n",
      "[-0.14850558  0.61726808  0.62359573]\n",
      "\n",
      " left hind\n",
      "[-0.06770519  0.29434474 -0.01171601]\n",
      "[-0.60748213 -0.37778376  0.57798219]\n",
      "[-0.39280363  0.80010335 -0.13871612]\n",
      "[-0.6194281   0.61203034  0.1323151 ]\n",
      "\n",
      " right front\n",
      "[-0.21275882  0.33314128  0.17277792]\n",
      "[ 0.54593803 -0.25175732 -0.42091833]\n",
      "[-0.10647742  0.55342464  0.15126996]\n",
      "[ 0.1305276   0.65000409 -0.1825427 ]\n",
      "\n",
      " right middle\n",
      "[-0.01746999  0.30851107  0.04346732]\n",
      "[-0.18322879 -0.42867379 -0.85088673]\n",
      "[ 0.15349425  0.7904746  -0.02121764]\n",
      "[ 0.00932014  0.67010295 -0.6005609 ]\n",
      "\n",
      " right hind\n",
      "[-0.06701464  0.29400813  0.03494591]\n",
      "[-0.40011962 -0.58257623 -0.62775534]\n",
      "[-0.17216764  0.80475315  0.07986324]\n",
      "[-0.50358769  0.72926172 -0.45598566]\n"
     ]
    }
   ],
   "source": [
    "print('The vector of 6 x 4 leg parts is: ')\n",
    "for i in range(6):\n",
    "    print('\\n',legname[i])\n",
    "    [print(vec_r[t,i*4+j]) for j in range(4)]"
   ]
  },
  {
   "cell_type": "code",
   "execution_count": 4,
   "metadata": {},
   "outputs": [
    {
     "name": "stdout",
     "output_type": "stream",
     "text": [
      "The coordinate of 30 points are: \n",
      "\n",
      " left front\n",
      "[ 2.27273804 -1.88360318  0.43356338]\n",
      "[ 2.09070084 -1.51453041  0.38799455]\n",
      "[ 2.60679995 -1.56054389  0.83364334]\n",
      "[ 2.66328193 -0.98342132  0.97375949]\n",
      "[ 2.88052876 -0.44710605  1.36911052]\n",
      "\n",
      " left middle\n",
      "[ 1.78442367 -1.77787974  0.19873547]\n",
      "[ 1.77385198 -1.46923974  0.16102575]\n",
      "[ 1.53712587 -1.86417384  0.92850569]\n",
      "[ 1.52402219 -1.04872241  1.05987254]\n",
      "[ 1.37551661 -0.43145433  1.68346827]\n",
      "\n",
      " left hind\n",
      "[ 1.58355454 -1.73262418  0.15236787]\n",
      "[ 1.51584936 -1.43827944  0.14065185]\n",
      "[ 0.90836722 -1.8160632   0.71863405]\n",
      "[ 0.5155636  -1.01595985  0.57991792]\n",
      "[-0.1038645  -0.40392951  0.71223302]\n",
      "\n",
      " right front\n",
      "[ 2.26088399 -1.94177511 -0.65337624]\n",
      "[ 2.04812517 -1.60863384 -0.48059832]\n",
      "[ 2.5940632  -1.86039115 -0.90151665]\n",
      "[ 2.48758578 -1.30696652 -0.75024669]\n",
      "[ 2.61811338 -0.65696242 -0.93278939]\n",
      "\n",
      " right middle\n",
      "[ 1.80490275 -1.8597792  -0.43832053]\n",
      "[ 1.78743276 -1.55126813 -0.39485321]\n",
      "[ 1.60420396 -1.97994192 -1.24573993]\n",
      "[ 1.75769822 -1.18946732 -1.26695758]\n",
      "[ 1.76701836 -0.51936437 -1.86751848]\n",
      "\n",
      " right hind\n",
      "[ 1.566737   -1.79995766 -0.45996971]\n",
      "[ 1.49972236 -1.50594954 -0.42502381]\n",
      "[ 1.09960273 -2.08852577 -1.05277915]\n",
      "[ 0.92743509 -1.28377262 -0.9729159 ]\n",
      "[ 0.4238474  -0.5545109  -1.42890157]\n"
     ]
    }
   ],
   "source": [
    "print('The coordinate of 30 points are: ')\n",
    "t = 0\n",
    "for i in range(6):\n",
    "    print('\\n',legname[i])\n",
    "    if(i>2): i = i + 4/5\n",
    "    [print(std_data[t,int(i*5+j)]) for j in range(5)]"
   ]
  },
  {
   "cell_type": "code",
   "execution_count": 5,
   "metadata": {},
   "outputs": [],
   "source": [
    "np.save('length.npy',length)"
   ]
  },
  {
   "cell_type": "code",
   "execution_count": null,
   "metadata": {},
   "outputs": [],
   "source": []
  }
 ],
 "metadata": {
  "kernelspec": {
   "display_name": "Python 3",
   "language": "python",
   "name": "python3"
  },
  "language_info": {
   "codemirror_mode": {
    "name": "ipython",
    "version": 3
   },
   "file_extension": ".py",
   "mimetype": "text/x-python",
   "name": "python",
   "nbconvert_exporter": "python",
   "pygments_lexer": "ipython3",
   "version": "3.7.1"
  }
 },
 "nbformat": 4,
 "nbformat_minor": 2
}
