{
 "cells": [
  {
   "cell_type": "code",
   "execution_count": 1,
   "metadata": {},
   "outputs": [],
   "source": [
    "%matplotlib inline\n",
    "import numpy as np\n",
    "import matplotlib.pyplot as plt\n",
    "import cv2\n",
    "%load_ext autoreload\n",
    "%autoreload 2"
   ]
  },
  {
   "cell_type": "code",
   "execution_count": 28,
   "metadata": {},
   "outputs": [],
   "source": [
    "def gen_movie(data,tt,sch1,sch2):\n",
    "    '''meaningful input: top view:(0,2)  left view:(1,0)  front view:(1,2)'''\n",
    "    mapp = np.zeros((tt,800,800),dtype = np.uint8)\n",
    "    for t in range(tt):\n",
    "        for i in range(0,data.shape[1]):  #  [0,5,19,24,10,29,15,34]:\n",
    "            for j in range(-3,3):\n",
    "                for k in range(-3,3):\n",
    "                    mapp[t,int(100*data[t,i,sch1]+300)+j,int(300+100*data[t,i,sch2])+k] = 255\n",
    "    return mapp\n",
    "def play_movie(mapp,tt,speed):\n",
    "    for t in range(tt):\n",
    "        cv2.imshow('reconstruct_movie',mapp[t])\n",
    "        if cv2.waitKey(speed) & 0xFF == ord('q'):\n",
    "            break\n",
    "def write_movie(mapp,tt,name):\n",
    "    out = cv2.VideoWriter(name,cv2.VideoWriter_fourcc('M','J','P','G'),100,(800,800))\n",
    "    bgr = np.zeros((800,800,3),dtype = np.uint8)\n",
    "    for t in range(tt): \n",
    "        bgr[:,:,0] = mapp[t]\n",
    "        bgr[:,:,1] = mapp[t]\n",
    "        bgr[:,:,2] = mapp[t]\n",
    "        out.write(bgr)\n",
    "def interpolation(data, t, leg, pos, num):\n",
    "    '''pos = 0,1,2,3  t = 0 , leg = left:0, 5, 10,  right:19, 24, 29'''\n",
    "    ex_point = data[t,leg+pos,:].reshape(1,3)\n",
    "    next_point = data[t,leg+pos+1,:].reshape(1,3)\n",
    "    lam = np.linspace(0,1,num).reshape(num,1)\n",
    "    enlarge_leg = lam * ex_point + (1 - lam) * next_point\n",
    "    return enlarge_leg\n",
    "\n",
    "points = np.load('recon_points.npy')\n",
    "num = 15\n",
    "enlarge_leg = np.zeros((899,24,num,3))\n",
    "for t in range(0,899):\n",
    "    i = 0\n",
    "    for leg in range(6):\n",
    "        for pos in range(4):\n",
    "            enlarge_leg[t,i+pos,:,:] = interpolation(points,t,leg*5,pos,num)\n",
    "        i += 4\n",
    "larg_leg = enlarge_leg.reshape(899,24*num,3)"
   ]
  },
  {
   "cell_type": "code",
   "execution_count": 16,
   "metadata": {},
   "outputs": [],
   "source": [
    "'''top view:(0,2)'''\n",
    "tt = 899\n",
    "speed = 10\n",
    "mapp = gen_movie(larg_leg,tt,0,2)\n",
    "play_movie(mapp,tt,speed)\n",
    "cv2.destroyAllWindows()\n",
    "name = 'Recon_movie_top.avi'\n",
    "write_movie(mapp,tt,name)"
   ]
  },
  {
   "cell_type": "code",
   "execution_count": 27,
   "metadata": {},
   "outputs": [],
   "source": [
    "'''left view:(1,0)'''\n",
    "tt = 899\n",
    "speed = 10\n",
    "mapp = gen_movie(larg_leg,tt,1,0)\n",
    "play_movie(mapp,tt,spedd)\n",
    "cv2.destroyAllWindows()\n",
    "name = 'Recon_movie_left.avi'\n",
    "write_movie(mapp,tt,name)"
   ]
  },
  {
   "cell_type": "code",
   "execution_count": 34,
   "metadata": {},
   "outputs": [],
   "source": [
    "speed = 100\n",
    "play_movie(mapp,tt,speed)\n",
    "cv2.destroyAllWindows()"
   ]
  },
  {
   "cell_type": "code",
   "execution_count": 26,
   "metadata": {},
   "outputs": [],
   "source": [
    "'''front view:(1,2)'''\n",
    "tt = 899\n",
    "speed = 10\n",
    "mapp = gen_movie(larg_leg,tt,1,2)\n",
    "play_movie(mapp,tt,speed)\n",
    "cv2.destroyAllWindows()\n",
    "name = 'Recon_movie_front.avi'\n",
    "write_movie(mapp,tt,name)"
   ]
  }
 ],
 "metadata": {
  "kernelspec": {
   "display_name": "Python 3",
   "language": "python",
   "name": "python3"
  },
  "language_info": {
   "codemirror_mode": {
    "name": "ipython",
    "version": 3
   },
   "file_extension": ".py",
   "mimetype": "text/x-python",
   "name": "python",
   "nbconvert_exporter": "python",
   "pygments_lexer": "ipython3",
   "version": "3.7.1"
  }
 },
 "nbformat": 4,
 "nbformat_minor": 2
}
