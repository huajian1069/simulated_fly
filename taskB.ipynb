{
 "cells": [
  {
   "cell_type": "code",
   "execution_count": 12,
   "metadata": {},
   "outputs": [
    {
     "name": "stdout",
     "output_type": "stream",
     "text": [
      "The autoreload extension is already loaded. To reload it, use:\n",
      "  %reload_ext autoreload\n"
     ]
    }
   ],
   "source": [
    "%matplotlib inline\n",
    "import numpy as np\n",
    "import matplotlib.pyplot as plt\n",
    "import cv2\n",
    "%load_ext autoreload\n",
    "%autoreload 2"
   ]
  },
  {
   "cell_type": "code",
   "execution_count": null,
   "metadata": {},
   "outputs": [],
   "source": []
  },
  {
   "cell_type": "code",
   "execution_count": 13,
   "metadata": {},
   "outputs": [
    {
     "name": "stdout",
     "output_type": "stream",
     "text": [
      "The dimension is \n",
      "(899, 38, 3)\n"
     ]
    },
    {
     "data": {
      "text/plain": [
       "(3, 38, 899)"
      ]
     },
     "execution_count": 13,
     "metadata": {},
     "output_type": "execute_result"
    }
   ],
   "source": [
    "a = np.load('pose_result__data_paper_180918_MDN_PR_Fly1_001_SG1_behData_images.pkl')\n",
    "data = a['points3d'].copy()\n",
    "print('The dimension is ')\n",
    "print(data.shape)\n",
    "t = np.linspace(0,9,900)\n",
    "data.T.shape"
   ]
  },
  {
   "cell_type": "code",
   "execution_count": 14,
   "metadata": {},
   "outputs": [
    {
     "data": {
      "text/plain": [
       "-1.4012000000000002"
      ]
     },
     "execution_count": 14,
     "metadata": {},
     "output_type": "execute_result"
    }
   ],
   "source": [
    "4.882 - 3.1416*2"
   ]
  },
  {
   "cell_type": "code",
   "execution_count": 15,
   "metadata": {},
   "outputs": [
    {
     "name": "stdout",
     "output_type": "stream",
     "text": [
      "39.719173687676225\n",
      "37.766569550937106\n",
      "40.96779343467542\n",
      "38.55254876567842\n",
      "[0.62771434 0.07004704 0.77528583]\n",
      "[0.62771434 0.         0.77528583]\n",
      "x-axis angel:  38.99554730142681\n",
      "left-coordinate x : [0.62771434 0.         0.77528583]\n",
      "left-coordinate y : [ 0 -1  0]\n",
      "left-coordinate z : [ 0.77528583  0.         -0.62771434]\n"
     ]
    }
   ],
   "source": [
    "def rotaMatr(v1,v2):\n",
    "    u = np.cross(v1,v2)\n",
    "    u = u/np.linalg.norm(u)\n",
    "    th = intersection_angle(v1,v2)\n",
    "    r = np.zeros((3,3))\n",
    "    c = np.cos(th)\n",
    "    s = np.sin(th)\n",
    "    ux = u[0]\n",
    "    uy = u[1]\n",
    "    uz = u[2]\n",
    "    r[0,0] = c + ux**2*(1-c)\n",
    "    r[0,1] = ux*uy*(1-c) - uz*s\n",
    "    r[0,2] = ux*uz*(1-c) + uy*s\n",
    "    \n",
    "    r[1,0] = ux*uy*(1-c) + uz*s\n",
    "    r[1,1] = c + uy**2*(1-c)\n",
    "    r[1,2] = uy*uz*(1-c) - ux*s\n",
    "    \n",
    "    r[2,0] = uz*ux*(1-c) - uy*s\n",
    "    r[2,1] = uz*uy*(1-c) + ux*s\n",
    "    r[2,2] = c + uz**2*(1-c)\n",
    "    return r\n",
    "def rotaVD(vector,dif):\n",
    "    u = vector/np.linalg.norm(vector)\n",
    "    th = dif\n",
    "    r = np.zeros((3,3))\n",
    "    c = np.cos(th)\n",
    "    s = np.sin(th)\n",
    "    ux = u[0]\n",
    "    uy = u[1]\n",
    "    uz = u[2]\n",
    "    r[0,0] = c + ux**2*(1-c)\n",
    "    r[0,1] = ux*uy*(1-c) - uz*s\n",
    "    r[0,2] = ux*uz*(1-c) + uy*s\n",
    "    \n",
    "    r[1,0] = ux*uy*(1-c) + uz*s\n",
    "    r[1,1] = c + uy**2*(1-c)\n",
    "    r[1,2] = uy*uz*(1-c) - ux*s\n",
    "    \n",
    "    r[2,0] = uz*ux*(1-c) - uy*s\n",
    "    r[2,1] = uz*uy*(1-c) + ux*s\n",
    "    r[2,2] = c + uz**2*(1-c)\n",
    "    return r\n",
    "def leg_inner(data, t, leg, pos):   \n",
    "    '''pos = 1,2,3  t = 0 , leg = 0, 5, 10,       19, 24, 29'''\n",
    "    ex_point = data[t,leg+pos,:]\n",
    "    pre_point = data[t,leg+pos-1,:]\n",
    "    next_point = data[t,leg+pos+1,:]\n",
    "    pre_v = ex_point - pre_point\n",
    "    nxt_v = next_point - ex_point\n",
    "    return intersection_angle(pre_v, nxt_v)\n",
    "def leg_len(data, t, leg, pos):\n",
    "    '''pos = 0,1,2,3  t = 0 , leg = left:0, 5, 10,  right:19, 24, 29'''\n",
    "    ex_point = data[t,leg+pos,:]\n",
    "    next_point = data[t,leg+pos+1,:]\n",
    "    nxt_v = next_point - ex_point\n",
    "    return np.linalg.norm(nxt_v)\n",
    "\n",
    "def thr_p(pl,pc,pr):\n",
    "    v1 = pl - pc;\n",
    "    v2 = pr - pc;\n",
    "    return intersection_angle(v1, v2)\n",
    "def intersection_angle(a,b):\n",
    "    return np.arccos(a@b/np.linalg.norm(a)/np.linalg.norm(b))\n",
    "def ag2(angle):\n",
    "    return angle/np.pi*180\n",
    "\n",
    "def set_coord():\n",
    "    v_ref = np.array([0,0,1])\n",
    "    v1 = data[0,0,:] - data[0,19,:]\n",
    "    v2 = data[0,5,:] - data[0,24,:]\n",
    "    v3 = data[0,10,:] - data[0,29,:]\n",
    "    v4 = data[0,15,:] - data[0,34,:]\n",
    "    print(ag2(intersection_angle(v_ref,v1)))\n",
    "    print(ag2(intersection_angle(v_ref,v2)))\n",
    "    print(ag2(intersection_angle(v_ref,v3)))\n",
    "    print(ag2(intersection_angle(v_ref,v4)))\n",
    "    xx = v1+v2+v3+v4\n",
    "    x_ref = xx/np.linalg.norm(xx)\n",
    "    print(x_ref)\n",
    "    x_ref[1] = 0\n",
    "    print(x_ref)\n",
    "    print('x-axis angel: ',ag2(intersection_angle(v_ref,x_ref)))\n",
    "    return x_ref\n",
    "coord_x = set_coord()\n",
    "#an = 38/180*np.pi\n",
    "#x_ref = np.array([np.sin(an),0,np.cos(an)])\n",
    "#print(x_ref)\n",
    "\n",
    "#coord_x = x_ref\n",
    "coord_y = np.array([0,-1,0])\n",
    "coord_z = np.cross(coord_x,coord_y)\n",
    "print('left-coordinate x :', coord_x)\n",
    "print('left-coordinate y :', coord_y)\n",
    "print('left-coordinate z :', coord_z)"
   ]
  },
  {
   "cell_type": "code",
   "execution_count": 16,
   "metadata": {},
   "outputs": [
    {
     "data": {
      "image/png": "[encoded data removed]",
      "text/plain": [
       "<Figure size 432x288 with 1 Axes>"
      ]
     },
     "metadata": {
      "needs_background": "light"
     },
     "output_type": "display_data"
    }
   ],
   "source": [
    "def views(data,t,sch1,sch2):\n",
    "    '''meaningful input: top view:(0,2)  left view:(1,0)  front view:(1,2)'''\n",
    "    mapp = np.zeros((800,800))\n",
    "    for i in range(data.shape[1]):#set(range(0,34))-set(range(15,19)):#range(0,34):#data.shape[1]):  #  [0,5,19,24,10,29,15,34]:\n",
    "        for j in range(-5,5):\n",
    "            for k in range(-5,5):\n",
    "                mapp[int(100*data[t,i,sch1]+300)+j,int(300+100*data[t,i,sch2])+k] = 10\n",
    "    plt.imshow(mapp)\n",
    "    #cv2.imshow('projection',mapp)\n",
    "    #cv2.waitKey(10)\n",
    "\n",
    "#views(0,2)\n",
    "\n",
    "R_std = rotaMatr(coord_x,np.array([0,0,1]))\n",
    "std_data = np.zeros(data.shape)\n",
    "for i in range(899):\n",
    "    std_data[i,:,:] = (R_std @ (data[i,:].T)).T\n",
    "views(std_data,0,0,2)\n",
    "for i in range(899):\n",
    "    views(std_data,i,1,2)\n",
    "tri = np.mean(std_data,axis=1)[0]-std_data[0]\n",
    "tri[:,1] = std_data[0,:,1]\n",
    "tri = tri.reshape(1,38,3)\n",
    "\n",
    "#views(tri,0,1,0)"
   ]
  },
  {
   "cell_type": "code",
   "execution_count": 17,
   "metadata": {},
   "outputs": [
    {
     "data": {
      "image/png": "[encoded data removed]",
      "text/plain": [
       "<Figure size 432x288 with 1 Axes>"
      ]
     },
     "metadata": {
      "needs_background": "light"
     },
     "output_type": "display_data"
    }
   ],
   "source": [
    "views(std_data,0,0,2)"
   ]
  },
  {
   "cell_type": "code",
   "execution_count": 18,
   "metadata": {},
   "outputs": [
    {
     "name": "stdout",
     "output_type": "stream",
     "text": [
      "leg  0\n",
      "0.4140395689922088 \t\n",
      "0.6834313211354136 \t\n",
      "0.5965678647359476 \t\n",
      "0.7008085946938519 \t\n",
      "leg  5\n",
      "0.31111482309465965 \t\n",
      "0.8950070660764843 \t\n",
      "0.8260689993657889 \t\n",
      "0.8899131593030334 \t\n",
      "leg  10\n",
      "0.3022583021135213 \t\n",
      "0.9196839265108279 \t\n",
      "0.9020544408440511 \t\n",
      "0.8807835090340419 \t\n",
      "\n",
      "\n",
      "leg  19\n",
      "0.4313949865614194 \t\n",
      "0.7338953002532271 \t\n",
      "0.5835228119934599 \t\n",
      "0.6876515206709799 \t\n",
      "leg  24\n",
      "0.3120475759381852 \t\n",
      "0.9702279278407753 \t\n",
      "0.8055189412119721 \t\n",
      "0.8998878948957555 \t\n",
      "leg  29\n",
      "0.3035670546208364 \t\n",
      "0.9452870186086477 \t\n",
      "0.826829770413402 \t\n",
      "0.9966675196551372 \t\n"
     ]
    }
   ],
   "source": [
    "length = np.zeros((1,24))\n",
    "for t in range(0,1):\n",
    "    i = 0\n",
    "    for leg in [0,5,10,19,24,29]:\n",
    "        for pos in range(4):\n",
    "            length[t,i+pos] = leg_len(data,t,leg,pos)\n",
    "        i += 4\n",
    "        \n",
    "for t in range(0,1):\n",
    "    i = 0\n",
    "    for leg in [0,5,10,19,24,29]:\n",
    "        if(leg == 19): print('\\n')\n",
    "        print('leg ',leg)\n",
    "        for pos in range(4):\n",
    "\n",
    "            print(length[t,i+pos],'\\t')\n",
    "        i += 4"
   ]
  },
  {
   "cell_type": "code",
   "execution_count": 19,
   "metadata": {},
   "outputs": [
    {
     "data": {
      "image/png": "[encoded data removed]",
      "text/plain": [
       "<Figure size 432x288 with 1 Axes>"
      ]
     },
     "metadata": {
      "needs_background": "light"
     },
     "output_type": "display_data"
    }
   ],
   "source": [
    "def interpolation(data, t, leg, pos, num):\n",
    "    '''pos = 0,1,2,3  t = 0 , leg = left:0, 5, 10,  right:19, 24, 29'''\n",
    "    ex_point = data[t,leg+pos,:].reshape(1,3)\n",
    "    next_point = data[t,leg+pos+1,:].reshape(1,3)\n",
    "    lam = np.linspace(0,1,num).reshape(num,1)\n",
    "    enlarge_leg = lam * ex_point + (1 - lam) * next_point\n",
    "    return enlarge_leg\n",
    "def views_line(data,t,sch1,sch2):\n",
    "    '''meaningful input: top view:(0,2)  left view:(1,0)  front view:(1,2)'''\n",
    "    mapp = np.zeros((800,800))\n",
    "    for i in range(0,data.shape[1]):  #  [0,5,19,24,10,29,15,34]:\n",
    "        for j in range(-3,3):\n",
    "            for k in range(-3,3):\n",
    "                mapp[int(100*data[t,i,sch1]+300)+j,int(300+100*data[t,i,sch2])+k] = 10\n",
    "    plt.imshow(mapp)\n",
    "    #cv2.imshow('projection view',mapp)\n",
    "    #cv2.waitKey(10)\n",
    "\n",
    "num = 15\n",
    "enlarge_leg = np.zeros((899,24,num,3))\n",
    "for t in range(0,899):\n",
    "    i = 0\n",
    "    for leg in [0,5,10,19,24,29]:\n",
    "        for pos in range(4):\n",
    "            enlarge_leg[t,i+pos,:,:] = interpolation(std_data,t,leg,pos,num)\n",
    "        i += 4\n",
    "larg_leg = enlarge_leg.reshape(899,24*num,3)\n",
    "for i in range(899):\n",
    "    views(larg_leg,i,1,2)"
   ]
  },
  {
   "cell_type": "code",
   "execution_count": 21,
   "metadata": {},
   "outputs": [
    {
     "ename": "NameError",
     "evalue": "name 'rec' is not defined",
     "output_type": "error",
     "traceback": [
      "\u001b[1;31m---------------------------------------------------------------------------\u001b[0m",
      "\u001b[1;31mNameError\u001b[0m                                 Traceback (most recent call last)",
      "\u001b[1;32m<ipython-input-21-f7cdfd0cd6fc>\u001b[0m in \u001b[0;36m<module>\u001b[1;34m\u001b[0m\n\u001b[1;32m----> 1\u001b[1;33m \u001b[0mrec\u001b[0m\u001b[1;33m.\u001b[0m\u001b[0mshape\u001b[0m\u001b[1;33m\u001b[0m\u001b[1;33m\u001b[0m\u001b[0m\n\u001b[0m",
      "\u001b[1;31mNameError\u001b[0m: name 'rec' is not defined"
     ]
    }
   ],
   "source": [
    "rec.shape"
   ]
  },
  {
   "cell_type": "code",
   "execution_count": 33,
   "metadata": {},
   "outputs": [
    {
     "data": {
      "text/plain": [
       "array([-0.43966135,  0.89139491, -0.1100591 ])"
      ]
     },
     "execution_count": 33,
     "metadata": {},
     "output_type": "execute_result"
    }
   ],
   "source": [
    "angle18 = angle_data3[0,:]\n",
    "root = np.zeros(3)\n",
    "leg1 = np.zeros(3)\n",
    "#for i,j in enumerate([0,5,10,19,24,29]):\n",
    "root_lf = std_data[0,0]\n",
    "#views(root.reshape(1,6,3),0,0,2)\n",
    "#for i,j in enumerate([0,3,6,9,12,15]):\n",
    "leg1[0] = np.cos(angle18[1]) * np.sin(-angle18[0])\n",
    "leg1[1] = np.sin(-angle18[1]) \n",
    "leg1[2] = np.cos(angle18[1]) * np.cos(angle18[0])\n",
    "leg1 = leg1 * length[0,0]\n",
    "joint1_lf = leg1 + root\n",
    "R12 = RotaVD()\n"
   ]
  },
  {
   "cell_type": "code",
   "execution_count": 31,
   "metadata": {},
   "outputs": [
    {
     "data": {
      "text/plain": [
       "array([ 104.05387503,  -63.04905775,  149.53530636,  164.33947697,\n",
       "        -82.76834569,  144.9393636 ,   99.81749814,  -76.86026153,\n",
       "         49.60149748, -129.07948048,  -50.55563715,  177.32200285,\n",
       "       -158.10426582,  -81.36573525, -143.08286323, -117.54054351,\n",
       "        -75.58345524,  -74.3665492 ])"
      ]
     },
     "execution_count": 31,
     "metadata": {},
     "output_type": "execute_result"
    }
   ],
   "source": [
    "ag2(angle18)"
   ]
  },
  {
   "cell_type": "code",
   "execution_count": 23,
   "metadata": {},
   "outputs": [
    {
     "data": {
      "text/plain": [
       "array([[ 2.05307146, -1.41059424,  0.44598874, ...,  2.18939718,\n",
       "        -2.18443594,  0.68695063],\n",
       "       [ 2.05307146, -1.42735261,  0.51868172, ...,  2.14447528,\n",
       "        -2.13677149,  0.60375207],\n",
       "       [ 2.06677054, -1.42735261,  0.53256001, ...,  2.15539072,\n",
       "        -2.15116469,  0.60662776],\n",
       "       ...,\n",
       "       [ 2.52916757, -2.21701623,  0.59501483, ...,  1.85301046,\n",
       "        -1.89492334,  0.58780548],\n",
       "       [ 2.52916757, -2.21701623,  0.59501483, ...,  1.85301046,\n",
       "        -1.89492334,  0.58780548],\n",
       "       [ 2.52916757, -2.21701623,  0.59501483, ...,  1.88010082,\n",
       "        -1.88838161,  0.6177853 ]])"
      ]
     },
     "execution_count": 23,
     "metadata": {},
     "output_type": "execute_result"
    }
   ],
   "source": [
    "angle_data1 = np.zeros((899,18))\n",
    "angle_data3 = np.zeros((899,18))\n",
    "def leg_1dof(t):\n",
    "    i = 0\n",
    "    for leg in [0,5,10,19,24,29]:\n",
    "        #if(leg == 0 ): print('Left leg')\n",
    "        #elif(leg == 19 ): print('Right leg')\n",
    "        for pos in range(1,4):\n",
    "            if(pos == 2):\n",
    "                angle_data1[t,i+pos-1] = -leg_inner(data,t=t,leg=leg,pos=pos)\n",
    "                #print(ag2(angle_data1[0,i+pos-1]))\n",
    "            else:\n",
    "                angle_data1[t,i+pos-1] = leg_inner(data,t=t,leg=leg,pos=pos)\n",
    "                #print(ag2(angle_data1[0,i+pos-1]))\n",
    "        i+=3\n",
    "        #print('\\n')\n",
    "for i in range(899):        \n",
    "    leg_1dof(i)\n",
    "angle_data1"
   ]
  },
  {
   "cell_type": "code",
   "execution_count": 24,
   "metadata": {},
   "outputs": [
    {
     "data": {
      "text/plain": [
       "151.37213293735795"
      ]
     },
     "execution_count": 24,
     "metadata": {},
     "output_type": "execute_result"
    },
    {
     "data": {
      "image/png": "[encoded data removed]",
      "text/plain": [
       "<Figure size 432x288 with 1 Axes>"
      ]
     },
     "metadata": {
      "needs_background": "light"
     },
     "output_type": "display_data"
    }
   ],
   "source": [
    "test = ag2(angle_data1[:,15])\n",
    "plt.plot(test)\n",
    "test.max()"
   ]
  },
  {
   "cell_type": "code",
   "execution_count": 25,
   "metadata": {
    "scrolled": true
   },
   "outputs": [],
   "source": [
    "def leg_3dof(t):\n",
    "    #global dif\n",
    "    j = 0\n",
    "    for i in [0,5,10,19,24,29]:\n",
    "        #if(i == 0):\n",
    "            #print('Left')\n",
    "        #elif(i == 19):\n",
    "            #print('Right')\n",
    "        if(i == 0 or i == 5 or i ==10):\n",
    "            lrcoord_z = coord_z;\n",
    "            lrcoord_x = coord_x;\n",
    "        else:\n",
    "            lrcoord_z = -coord_z;\n",
    "            lrcoord_x = -coord_x;\n",
    "        lrcoord_y = coord_y \n",
    "        x_r = data[t,i+1,:] - data[t,i+0,:]\n",
    "        xr_proj = x_r.copy()\n",
    "        xr_y = xr_proj[1]\n",
    "        xr_proj[1] = 0;\n",
    "        \n",
    "        theta_z = intersection_angle(lrcoord_z, xr_proj)\n",
    "        theta_x = intersection_angle(lrcoord_x, xr_proj)\n",
    "        if(theta_z < np.pi/2):\n",
    "            angle_1 = -theta_x\n",
    "        else:\n",
    "            angle_1 = theta_x\n",
    "        #print('angle1')\n",
    "        angle_data3[t,j] = angle_1\n",
    "        #print(ag2(angle_1))\n",
    "        angle_2 = np.pi/2 - intersection_angle(lrcoord_y,x_r)\n",
    "        #print('angle2')\n",
    "        angle_data3[t,j+1] = angle_2 \n",
    "        #print(ag2(angle_2))\n",
    "        \n",
    "        y_slope = data[t,i+2,:] - data[t,i+1,:]\n",
    "        #  how to make sure y_slope direction, Yes, sure\n",
    "        z_r = np.cross(x_r, y_slope)\n",
    "        R1 = rotaMatr(lrcoord_x, xr_proj)\n",
    "        rel_coord_z = R1 @ lrcoord_z\n",
    "        R2 = rotaMatr(xr_proj, x_r)\n",
    "        rel_coord_y = R2 @ lrcoord_y\n",
    "        #if(t == 0):\n",
    "        #    theta3_y = intersection_angle(rel_coord_y, z_r)\n",
    "        #    theta3_z = intersection_angle(rel_coord_z, z_r)\n",
    "        #    if(theta3_y < np.pi/2):\n",
    "        #        dif = -theta3_z\n",
    "        #    else:\n",
    "        #        dif = theta3_z\n",
    "        #    Rx = rotaVD(x_r, dif)\n",
    "        #    rel_coord_z = Rx @ rel_coord_z\n",
    "        #    rel_coord_y = Rx @ rel_coord_y\n",
    "        #    angle_3 = dif\n",
    "        #else:\n",
    "        #    Rx = rotaVD(x_r,dif)\n",
    "        #    rel_coord_z = Rx @ rel_coord_z\n",
    "        #    rel_coord_y = Rx @ rel_coord_y\n",
    "        theta3_y = intersection_angle(rel_coord_y, z_r)\n",
    "        theta3_z = intersection_angle(rel_coord_z, z_r)\n",
    "        #print(\"theta3_y = \",ag2(theta3_y),\"theta3_z = \",ag2(theta3_z))\n",
    "        #print(\"sum = \",ag2(theta3_y+theta3_z), 'dif = ',ag2(theta3_y-theta3_z))\n",
    "        if(theta3_y < np.pi/2):\n",
    "            angle_3 = -theta3_z #+ dif\n",
    "        else:\n",
    "            angle_3 = theta3_z #+ dif\n",
    "        #print('angle3')\n",
    "        angle_data3[t,j+2] = angle_3\n",
    "        #print(ag2(angle_3))\n",
    "        #print('\\n')\n",
    "        j += 3\n",
    "    return angle_1,angle_2,angle_3\n",
    "dif = 0\n",
    "for i in range(899):\n",
    "    leg_3dof(i)\n",
    "np.savetxt('angle_data1.txt',angle_data1,fmt='%.4f')\n",
    "np.savetxt('angle_data3.txt',angle_data3,fmt='%.4f')\n",
    "angle_data3[0]\n",
    "copy = angle_data3.copy()"
   ]
  },
  {
   "cell_type": "code",
   "execution_count": 32,
   "metadata": {},
   "outputs": [
    {
     "data": {
      "text/plain": [
       "array([[ 1.6590808 , -1.10041365,  2.60988344, ..., -2.20847141,\n",
       "        -1.31918015, -1.29794114],\n",
       "       [ 1.6590808 , -1.10041365,  2.60988344, ..., -2.12767848,\n",
       "        -1.24777247, -1.17968106],\n",
       "       [ 1.65888608, -1.08444621,  2.60534379, ..., -2.12767848,\n",
       "        -1.24777247, -1.17553484],\n",
       "       ...,\n",
       "       [ 1.95861345, -0.94107222,  2.77082363, ..., -1.69023596,\n",
       "        -1.24539989, -0.73319369],\n",
       "       [ 1.95861345, -0.94107222,  2.77082363, ..., -1.69023596,\n",
       "        -1.24539989, -0.73319369],\n",
       "       [ 1.95861345, -0.94107222,  2.77082363, ..., -1.64449581,\n",
       "        -1.3049018 , -0.68719584]])"
      ]
     },
     "execution_count": 32,
     "metadata": {},
     "output_type": "execute_result"
    }
   ],
   "source": [
    "ag2(angle_data3[0,:])\n",
    "angle_data3"
   ]
  },
  {
   "cell_type": "code",
   "execution_count": 13,
   "metadata": {},
   "outputs": [
    {
     "name": "stdout",
     "output_type": "stream",
     "text": [
      "62.91497326655729\n"
     ]
    },
    {
     "data": {
      "image/png": "[encoded data removed]",
      "text/plain": [
       "<Figure size 432x288 with 1 Axes>"
      ]
     },
     "metadata": {
      "needs_background": "light"
     },
     "output_type": "display_data"
    }
   ],
   "source": [
    "p = 3\n",
    "tst = ag2(angle_data3[:,p])\n",
    "plt.plot(tst)\n",
    "avg = tst.mean()\n",
    "print(avg)"
   ]
  },
  {
   "cell_type": "code",
   "execution_count": 14,
   "metadata": {},
   "outputs": [
    {
     "data": {
      "text/plain": [
       "[<matplotlib.lines.Line2D at 0x25536dff048>]"
      ]
     },
     "execution_count": 14,
     "metadata": {},
     "output_type": "execute_result"
    },
    {
     "data": {
      "image/png": "[encoded data removed]",
      "text/plain": [
       "<Figure size 432x288 with 1 Axes>"
      ]
     },
     "metadata": {
      "needs_background": "light"
     },
     "output_type": "display_data"
    }
   ],
   "source": [
    "#print(ag2(chg))\n",
    "#print(tst[np.where(tst-avg > 90)])\n",
    "cp = angle_data3[:,p].copy()\n",
    "cp[np.where(tst-avg > 120)] -= np.pi*2\n",
    "#cp[np.where(tst > 200)] -= np.pi*2\n",
    "cp[np.where(tst-avg < -100)] += np.pi*2\n",
    "plt.plot(ag2(cp))"
   ]
  },
  {
   "cell_type": "code",
   "execution_count": null,
   "metadata": {},
   "outputs": [],
   "source": [
    "angle_data3[:,p][np.where(tst-avg > 90)] -= np.pi*2\n",
    "angle_data3[:,p][np.where(tst-avg < -90)] += np.pi*2"
   ]
  },
  {
   "cell_type": "code",
   "execution_count": 14,
   "metadata": {},
   "outputs": [
    {
     "name": "stdout",
     "output_type": "stream",
     "text": [
      "930.0\n",
      "0.0\n",
      "\n",
      "\n",
      "922.5\n",
      "0.0\n",
      "\n",
      "\n",
      "795.0\n",
      "0.0\n",
      "\n",
      "\n",
      "0.0\n",
      "0.0\n",
      "\n",
      "\n",
      "720.0\n",
      "0.0\n",
      "\n",
      "\n",
      "922.5\n",
      "0.0\n",
      "\n",
      "\n",
      "952.5\n",
      "0.0\n",
      "\n",
      "\n"
     ]
    },
    {
     "data": {
      "text/plain": [
       "0.0"
      ]
     },
     "execution_count": 14,
     "metadata": {},
     "output_type": "execute_result"
    }
   ],
   "source": [
    "data2 = a['points2d']\n",
    "def scheme2d(cam):\n",
    "    mapp = np.zeros((800,800))\n",
    "    for i in range(0,38):  #  [0,5,19,24,10,29,15,34]:\n",
    "        for j in range(-5,5):\n",
    "            for k in range(-5,5):\n",
    "                mapp[int(100*data[0,i,sch1]+400)+j,int(400+100*data[0,i,sch2])+k] = 10\n",
    "    plt.imshow(mapp)\n",
    "for i in range(7):\n",
    "    print(np.max(data2[i,:,:,0]))\n",
    "    print(np.min(data2[i,:,:,0]))\n",
    "    print('\\n')\n",
    "np.mean(data2[3,:,:,:])\n",
    "# it is strange that data2[3] 3rd camera not works"
   ]
  },
  {
   "cell_type": "code",
   "execution_count": 13,
   "metadata": {},
   "outputs": [],
   "source": [
    "from enum import Enum\n",
    "import numpy as np\n",
    "num_cameras = 7\n",
    "class Tracked(Enum):\n",
    "   BODY_COXA = 0\n",
    "   COXA_FEMUR = 1\n",
    "   FEMUR_TIBIA = 2\n",
    "   TIBIA_TARSUS = 3\n",
    "   TARSUS_TIP = 4\n",
    "\n",
    "   ANTENNA = 5\n",
    "   STRIPE = 6\n",
    "  \n",
    "    \n",
    "tracked_points = [Tracked.BODY_COXA, Tracked.COXA_FEMUR, Tracked.FEMUR_TIBIA, Tracked.TIBIA_TARSUS, Tracked.TARSUS_TIP,\n",
    "                 Tracked.BODY_COXA, Tracked.COXA_FEMUR, Tracked.FEMUR_TIBIA, Tracked.TIBIA_TARSUS, Tracked.TARSUS_TIP,\n",
    "                 Tracked.BODY_COXA, Tracked.COXA_FEMUR, Tracked.FEMUR_TIBIA, Tracked.TIBIA_TARSUS, Tracked.TARSUS_TIP,\n",
    "                 Tracked.ANTENNA,\n",
    "                 Tracked.STRIPE, Tracked.STRIPE, Tracked.STRIPE,\n",
    "                  \n",
    "                  \n",
    "                 Tracked.BODY_COXA, Tracked.COXA_FEMUR, Tracked.FEMUR_TIBIA, Tracked.TIBIA_TARSUS, Tracked.TARSUS_TIP,\n",
    "                 Tracked.BODY_COXA, Tracked.COXA_FEMUR, Tracked.FEMUR_TIBIA, Tracked.TIBIA_TARSUS, Tracked.TARSUS_TIP,\n",
    "                 Tracked.BODY_COXA, Tracked.COXA_FEMUR, Tracked.FEMUR_TIBIA, Tracked.TIBIA_TARSUS, Tracked.TARSUS_TIP,\n",
    "                 Tracked.ANTENNA,\n",
    "                 Tracked.STRIPE, Tracked.STRIPE, Tracked.STRIPE]"
   ]
  },
  {
   "cell_type": "code",
   "execution_count": 21,
   "metadata": {
    "scrolled": true
   },
   "outputs": [
    {
     "data": {
      "text/plain": [
       "[<matplotlib.lines.Line2D at 0x7f2739a78978>]"
      ]
     },
     "execution_count": 21,
     "metadata": {},
     "output_type": "execute_result"
    },
    {
     "data": {
      "image/png": "[encoded data removed]",
      "text/plain": [
       "<Figure size 432x288 with 1 Axes>"
      ]
     },
     "metadata": {
      "needs_background": "light"
     },
     "output_type": "display_data"
    },
    {
     "data": {
      "image/png": "[encoded data removed]",
      "text/plain": [
       "<Figure size 432x288 with 1 Axes>"
      ]
     },
     "metadata": {
      "needs_background": "light"
     },
     "output_type": "display_data"
    }
   ],
   "source": [
    "body_coxa0 = data[:,0,1]\n",
    "t = np.linspace(0,9,899)\n",
    "\n",
    "# number of positions statistics\n",
    "fig = plt.figure()\n",
    "axe = plt.axes()\n",
    "axe.hist(body_coxa0)\n",
    "\n",
    "# position VS. time\n",
    "fig2 = plt.figure()\n",
    "axe = plt.axes()\n",
    "axe.plot(t,body_coxa0)\n"
   ]
  },
  {
   "cell_type": "code",
   "execution_count": null,
   "metadata": {},
   "outputs": [],
   "source": []
  }
 ],
 "metadata": {
  "kernelspec": {
   "display_name": "Python 3",
   "language": "python",
   "name": "python3"
  },
  "language_info": {
   "codemirror_mode": {
    "name": "ipython",
    "version": 3
   },
   "file_extension": ".py",
   "mimetype": "text/x-python",
   "name": "python",
   "nbconvert_exporter": "python",
   "pygments_lexer": "ipython3",
   "version": "3.7.1"
  }
 },
 "nbformat": 4,
 "nbformat_minor": 1
}
